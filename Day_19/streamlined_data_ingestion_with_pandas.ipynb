{
  "nbformat": 4,
  "nbformat_minor": 0,
  "metadata": {
    "colab": {
      "provenance": []
    },
    "kernelspec": {
      "name": "python3",
      "display_name": "Python 3"
    },
    "language_info": {
      "name": "python"
    }
  },
  "cells": [
    {
      "cell_type": "markdown",
      "source": [
        "# Data Ingestion with Pandas"
      ],
      "metadata": {
        "id": "glYhIDp66Q37"
      }
    },
    {
      "cell_type": "markdown",
      "source": [
        "[DataCamp Streamlined Data Ingestion with Pandas Course](https://app.datacamp.com/learn/courses/streamlined-data-ingestion-with-pandas)"
      ],
      "metadata": {
        "id": "7uxrsnLs6Gkb"
      }
    },
    {
      "cell_type": "markdown",
      "source": [
        "## Importing Data from Flat Files"
      ],
      "metadata": {
        "id": "Jo2PO5XTLNFv"
      }
    },
    {
      "cell_type": "markdown",
      "source": [
        "### Introduction to Flatfiles\n",
        "- Simple,easy-to-produce format\n",
        "- Data stored as plaintext(no formaing)\n",
        "- One row per line - Values for different fields are separated by a delimiter\n",
        "- Most common flat file type:comma-separated values\n",
        "- One pandas functiontoloadthemall: read_csv()\n"
      ],
      "metadata": {
        "id": "a0nukXOrbnFC"
      }
    },
    {
      "cell_type": "code",
      "source": [
        "import matplotlib.pyplot as plt"
      ],
      "metadata": {
        "id": "9YFcd1n0j96t"
      },
      "execution_count": 1,
      "outputs": []
    },
    {
      "cell_type": "markdown",
      "source": [
        "#### Loading CSVs"
      ],
      "metadata": {
        "id": "IDu_3HrffELt"
      }
    },
    {
      "cell_type": "code",
      "source": [
        "# Import pandas as pd\n",
        "import pandas as pd\n",
        "\n",
        "# Read the CSV and assign it to the variable data\n",
        "data = pd.read_csv('vt_tax_data_2016.csv')\n",
        "\n",
        "# View the first few lines of data\n",
        "print(data.head())"
      ],
      "metadata": {
        "colab": {
          "base_uri": "https://localhost:8080/"
        },
        "id": "pr0d_y836GOP",
        "outputId": "d9fa16c2-440b-4628-c518-8978d1b3ecc7"
      },
      "execution_count": 2,
      "outputs": [
        {
          "output_type": "stream",
          "name": "stdout",
          "text": [
            "   STATEFIPS STATE  zipcode  agi_stub      N1  mars1  MARS2  MARS4   PREP  \\\n",
            "0         50    VT        0         1  111580  85090  14170  10740  45360   \n",
            "1         50    VT        0         2   82760  51960  18820  11310  35600   \n",
            "2         50    VT        0         3   46270  19540  22650   3620  24140   \n",
            "3         50    VT        0         4   30070   5830  22190    960  16060   \n",
            "4         50    VT        0         5   39530   3900  33800    590  22500   \n",
            "\n",
            "       N2  ...  N10300  A10300  N85530  A85530  N85300  A85300  N11901  \\\n",
            "0  130630  ...   53660   50699       0       0       0       0   10820   \n",
            "1  132950  ...   74340  221146       0       0       0       0   12820   \n",
            "2   91870  ...   44860  266097       0       0       0       0   10810   \n",
            "3   71610  ...   29580  264678       0       0       0       0    7320   \n",
            "4  103710  ...   39170  731963      40      24       0       0   12500   \n",
            "\n",
            "   A11901  N11902  A11902  \n",
            "0    9734   88260  138337  \n",
            "1   20029   68760  151729  \n",
            "2   24499   34600   90583  \n",
            "3   21573   21300   67045  \n",
            "4   67761   23320  103034  \n",
            "\n",
            "[5 rows x 147 columns]\n"
          ]
        }
      ]
    },
    {
      "cell_type": "markdown",
      "source": [
        "#### Loading other Flat files"
      ],
      "metadata": {
        "id": "SOVuvL5afJLc"
      }
    },
    {
      "cell_type": "code",
      "execution_count": 3,
      "metadata": {
        "colab": {
          "base_uri": "https://localhost:8080/",
          "height": 461
        },
        "id": "x_WmqYPE6Bf8",
        "outputId": "9fa1e1b4-96b1-491c-d5ea-b3146a5fafd6"
      },
      "outputs": [
        {
          "output_type": "execute_result",
          "data": {
            "text/plain": [
              "<Axes: xlabel='agi_stub'>"
            ]
          },
          "metadata": {},
          "execution_count": 3
        },
        {
          "output_type": "display_data",
          "data": {
            "text/plain": [
              "<Figure size 640x480 with 1 Axes>"
            ],
            "image/png": "[encoded data removed]"
          },
          "metadata": {}
        }
      ],
      "source": [
        "# Import pandas with the alias pd\n",
        "import pandas as pd\n",
        "\n",
        "# Load TSV using the sep keyword argument to set delimiter\n",
        "data = pd.read_csv('vt_tax_data_2016.tsv', sep='\\t')\n",
        "\n",
        "# Plot the total number of tax returns by income group\n",
        "counts = data.groupby(\"agi_stub\").N1.sum()\n",
        "counts.plot.bar()\n",
        "# plt.show()"
      ]
    },
    {
      "cell_type": "markdown",
      "source": [
        "#### Modifying flat file imports"
      ],
      "metadata": {
        "id": "Ge7eHSdfgE6U"
      }
    },
    {
      "cell_type": "markdown",
      "source": [
        "##### Limiting Columns"
      ],
      "metadata": {
        "id": "ZftOj6o9gTz8"
      }
    },
    {
      "cell_type": "code",
      "source": [
        "# Managing the amount of data to load\n",
        "\n",
        "# Create list of columns to use\n",
        "cols = ['zipcode','agi_stub','mars1','MARS2','NUMDEP']\n",
        "\n",
        "# Create dataframe from csv using only selected columns\n",
        "data = pd.read_csv(\"vt_tax_data_2016.csv\", usecols=cols)\n",
        "\n",
        "# View counts of dependents and tax returns by income level\n",
        "print(data.groupby(\"agi_stub\").sum())"
      ],
      "metadata": {
        "colab": {
          "base_uri": "https://localhost:8080/"
        },
        "id": "ctN2DCIT67q9",
        "outputId": "5df928e3-4cc3-4ad3-ef02-5a8cc444e205"
      },
      "execution_count": 4,
      "outputs": [
        {
          "output_type": "stream",
          "name": "stdout",
          "text": [
            "          zipcode   mars1  MARS2  NUMDEP\n",
            "agi_stub                                \n",
            "1         1439444  170320  28480   52490\n",
            "2         1439444  104000  37690   64660\n",
            "3         1439444   39160  45390   47330\n",
            "4         1439444   11670  44410   37760\n",
            "5         1439444    7820  67750   60730\n",
            "6         1439444    1210  16340   16300\n"
          ]
        }
      ]
    },
    {
      "cell_type": "markdown",
      "source": [
        "##### Limiting Rows"
      ],
      "metadata": {
        "id": "Jm2CqSzdgWiM"
      }
    },
    {
      "cell_type": "code",
      "source": [
        "# Import pandas as pd\n",
        "import pandas as pd\n",
        "\n",
        "# Read the CSV and assign it to the variable data\n",
        "data = pd.read_csv('vt_tax_data_2016.csv')\n",
        "\n",
        "# Create dataframe of first 500 rows with labeled columns\n",
        "vt_data_first500 = pd.read_csv(\"vt_tax_data_2016.csv\",\n",
        "                       \t\t  nrows=500,\n",
        "                       \t\t  skiprows=1,\n",
        "                       \t\t  header=None,\n",
        "                       \t\t  names=list(data))\n",
        "\n",
        "# View the Vermont dataframes to confirm they're different\n",
        "vt_data_first500.head()"
      ],
      "metadata": {
        "colab": {
          "base_uri": "https://localhost:8080/",
          "height": 235
        },
        "id": "UJTQ5WslAHeE",
        "outputId": "74756135-5f08-4c91-e27f-8e0afac6575a"
      },
      "execution_count": 5,
      "outputs": [
        {
          "output_type": "execute_result",
          "data": {
            "text/plain": [
              "   STATEFIPS STATE  zipcode  agi_stub      N1  mars1  MARS2  MARS4   PREP  \\\n",
              "0         50    VT        0         1  111580  85090  14170  10740  45360   \n",
              "1         50    VT        0         2   82760  51960  18820  11310  35600   \n",
              "2         50    VT        0         3   46270  19540  22650   3620  24140   \n",
              "3         50    VT        0         4   30070   5830  22190    960  16060   \n",
              "4         50    VT        0         5   39530   3900  33800    590  22500   \n",
              "\n",
              "       N2  ...  N10300  A10300  N85530  A85530  N85300  A85300  N11901  \\\n",
              "0  130630  ...   53660   50699       0       0       0       0   10820   \n",
              "1  132950  ...   74340  221146       0       0       0       0   12820   \n",
              "2   91870  ...   44860  266097       0       0       0       0   10810   \n",
              "3   71610  ...   29580  264678       0       0       0       0    7320   \n",
              "4  103710  ...   39170  731963      40      24       0       0   12500   \n",
              "\n",
              "   A11901  N11902  A11902  \n",
              "0    9734   88260  138337  \n",
              "1   20029   68760  151729  \n",
              "2   24499   34600   90583  \n",
              "3   21573   21300   67045  \n",
              "4   67761   23320  103034  \n",
              "\n",
              "[5 rows x 147 columns]"
            ],
            "text/html": [
              "\n",
              "  <div id=\"df-2a3881a9-2e13-4ff1-b8eb-5dfe91a74320\" class=\"colab-df-container\">\n",
              "    <div>\n",
              "<style scoped>\n",
              "    .dataframe tbody tr th:only-of-type {\n",
              "        vertical-align: middle;\n",
              "    }\n",
              "\n",
              "    .dataframe tbody tr th {\n",
              "        vertical-align: top;\n",
              "    }\n",
              "\n",
              "    .dataframe thead th {\n",
              "        text-align: right;\n",
              "    }\n",
              "</style>\n",
              "<table border=\"1\" class=\"dataframe\">\n",
              "  <thead>\n",
              "    <tr style=\"text-align: right;\">\n",
              "      <th></th>\n",
              "      <th>STATEFIPS</th>\n",
              "      <th>STATE</th>\n",
              "      <th>zipcode</th>\n",
              "      <th>agi_stub</th>\n",
              "      <th>N1</th>\n",
              "      <th>mars1</th>\n",
              "      <th>MARS2</th>\n",
              "      <th>MARS4</th>\n",
              "      <th>PREP</th>\n",
              "      <th>N2</th>\n",
              "      <th>...</th>\n",
              "      <th>N10300</th>\n",
              "      <th>A10300</th>\n",
              "      <th>N85530</th>\n",
              "      <th>A85530</th>\n",
              "      <th>N85300</th>\n",
              "      <th>A85300</th>\n",
              "      <th>N11901</th>\n",
              "      <th>A11901</th>\n",
              "      <th>N11902</th>\n",
              "      <th>A11902</th>\n",
              "    </tr>\n",
              "  </thead>\n",
              "  <tbody>\n",
              "    <tr>\n",
              "      <th>0</th>\n",
              "      <td>50</td>\n",
              "      <td>VT</td>\n",
              "      <td>0</td>\n",
              "      <td>1</td>\n",
              "      <td>111580</td>\n",
              "      <td>85090</td>\n",
              "      <td>14170</td>\n",
              "      <td>10740</td>\n",
              "      <td>45360</td>\n",
              "      <td>130630</td>\n",
              "      <td>...</td>\n",
              "      <td>53660</td>\n",
              "      <td>50699</td>\n",
              "      <td>0</td>\n",
              "      <td>0</td>\n",
              "      <td>0</td>\n",
              "      <td>0</td>\n",
              "      <td>10820</td>\n",
              "      <td>9734</td>\n",
              "      <td>88260</td>\n",
              "      <td>138337</td>\n",
              "    </tr>\n",
              "    <tr>\n",
              "      <th>1</th>\n",
              "      <td>50</td>\n",
              "      <td>VT</td>\n",
              "      <td>0</td>\n",
              "      <td>2</td>\n",
              "      <td>82760</td>\n",
              "      <td>51960</td>\n",
              "      <td>18820</td>\n",
              "      <td>11310</td>\n",
              "      <td>35600</td>\n",
              "      <td>132950</td>\n",
              "      <td>...</td>\n",
              "      <td>74340</td>\n",
              "      <td>221146</td>\n",
              "      <td>0</td>\n",
              "      <td>0</td>\n",
              "      <td>0</td>\n",
              "      <td>0</td>\n",
              "      <td>12820</td>\n",
              "      <td>20029</td>\n",
              "      <td>68760</td>\n",
              "      <td>151729</td>\n",
              "    </tr>\n",
              "    <tr>\n",
              "      <th>2</th>\n",
              "      <td>50</td>\n",
              "      <td>VT</td>\n",
              "      <td>0</td>\n",
              "      <td>3</td>\n",
              "      <td>46270</td>\n",
              "      <td>19540</td>\n",
              "      <td>22650</td>\n",
              "      <td>3620</td>\n",
              "      <td>24140</td>\n",
              "      <td>91870</td>\n",
              "      <td>...</td>\n",
              "      <td>44860</td>\n",
              "      <td>266097</td>\n",
              "      <td>0</td>\n",
              "      <td>0</td>\n",
              "      <td>0</td>\n",
              "      <td>0</td>\n",
              "      <td>10810</td>\n",
              "      <td>24499</td>\n",
              "      <td>34600</td>\n",
              "      <td>90583</td>\n",
              "    </tr>\n",
              "    <tr>\n",
              "      <th>3</th>\n",
              "      <td>50</td>\n",
              "      <td>VT</td>\n",
              "      <td>0</td>\n",
              "      <td>4</td>\n",
              "      <td>30070</td>\n",
              "      <td>5830</td>\n",
              "      <td>22190</td>\n",
              "      <td>960</td>\n",
              "      <td>16060</td>\n",
              "      <td>71610</td>\n",
              "      <td>...</td>\n",
              "      <td>29580</td>\n",
              "      <td>264678</td>\n",
              "      <td>0</td>\n",
              "      <td>0</td>\n",
              "      <td>0</td>\n",
              "      <td>0</td>\n",
              "      <td>7320</td>\n",
              "      <td>21573</td>\n",
              "      <td>21300</td>\n",
              "      <td>67045</td>\n",
              "    </tr>\n",
              "    <tr>\n",
              "      <th>4</th>\n",
              "      <td>50</td>\n",
              "      <td>VT</td>\n",
              "      <td>0</td>\n",
              "      <td>5</td>\n",
              "      <td>39530</td>\n",
              "      <td>3900</td>\n",
              "      <td>33800</td>\n",
              "      <td>590</td>\n",
              "      <td>22500</td>\n",
              "      <td>103710</td>\n",
              "      <td>...</td>\n",
              "      <td>39170</td>\n",
              "      <td>731963</td>\n",
              "      <td>40</td>\n",
              "      <td>24</td>\n",
              "      <td>0</td>\n",
              "      <td>0</td>\n",
              "      <td>12500</td>\n",
              "      <td>67761</td>\n",
              "      <td>23320</td>\n",
              "      <td>103034</td>\n",
              "    </tr>\n",
              "  </tbody>\n",
              "</table>\n",
              "<p>5 rows × 147 columns</p>\n",
              "</div>\n",
              "    <div class=\"colab-df-buttons\">\n",
              "\n",
              "  <div class=\"colab-df-container\">\n",
              "    <button class=\"colab-df-convert\" onclick=\"convertToInteractive('df-2a3881a9-2e13-4ff1-b8eb-5dfe91a74320')\"\n",
              "            title=\"Convert this dataframe to an interactive table.\"\n",
              "            style=\"display:none;\">\n",
              "\n",
              "  <svg xmlns=\"http://www.w3.org/2000/svg\" height=\"24px\" viewBox=\"0 -960 960 960\">\n",
              "    <path d=\"M120-120v-720h720v720H120Zm60-500h600v-160H180v160Zm220 220h160v-160H400v160Zm0 220h160v-160H400v160ZM180-400h160v-160H180v160Zm440 0h160v-160H620v160ZM180-180h160v-160H180v160Zm440 0h160v-160H620v160Z\"/>\n",
              "  </svg>\n",
              "    </button>\n",
              "\n",
              "  <style>\n",
              "    .colab-df-container {\n",
              "      display:flex;\n",
              "      gap: 12px;\n",
              "    }\n",
              "\n",
              "    .colab-df-convert {\n",
              "      background-color: #E8F0FE;\n",
              "      border: none;\n",
              "      border-radius: 50%;\n",
              "      cursor: pointer;\n",
              "      display: none;\n",
              "      fill: #1967D2;\n",
              "      height: 32px;\n",
              "      padding: 0 0 0 0;\n",
              "      width: 32px;\n",
              "    }\n",
              "\n",
              "    .colab-df-convert:hover {\n",
              "      background-color: #E2EBFA;\n",
              "      box-shadow: 0px 1px 2px rgba(60, 64, 67, 0.3), 0px 1px 3px 1px rgba(60, 64, 67, 0.15);\n",
              "      fill: #174EA6;\n",
              "    }\n",
              "\n",
              "    .colab-df-buttons div {\n",
              "      margin-bottom: 4px;\n",
              "    }\n",
              "\n",
              "    [theme=dark] .colab-df-convert {\n",
              "      background-color: #3B4455;\n",
              "      fill: #D2E3FC;\n",
              "    }\n",
              "\n",
              "    [theme=dark] .colab-df-convert:hover {\n",
              "      background-color: #434B5C;\n",
              "      box-shadow: 0px 1px 3px 1px rgba(0, 0, 0, 0.15);\n",
              "      filter: drop-shadow(0px 1px 2px rgba(0, 0, 0, 0.3));\n",
              "      fill: #FFFFFF;\n",
              "    }\n",
              "  </style>\n",
              "\n",
              "    <script>\n",
              "      const buttonEl =\n",
              "        document.querySelector('#df-2a3881a9-2e13-4ff1-b8eb-5dfe91a74320 button.colab-df-convert');\n",
              "      buttonEl.style.display =\n",
              "        google.colab.kernel.accessAllowed ? 'block' : 'none';\n",
              "\n",
              "      async function convertToInteractive(key) {\n",
              "        const element = document.querySelector('#df-2a3881a9-2e13-4ff1-b8eb-5dfe91a74320');\n",
              "        const dataTable =\n",
              "          await google.colab.kernel.invokeFunction('convertToInteractive',\n",
              "                                                    [key], {});\n",
              "        if (!dataTable) return;\n",
              "\n",
              "        const docLinkHtml = 'Like what you see? Visit the ' +\n",
              "          '<a target=\"_blank\" href=https://colab.research.google.com/notebooks/data_table.ipynb>data table notebook</a>'\n",
              "          + ' to learn more about interactive tables.';\n",
              "        element.innerHTML = '';\n",
              "        dataTable['output_type'] = 'display_data';\n",
              "        await google.colab.output.renderOutput(dataTable, element);\n",
              "        const docLink = document.createElement('div');\n",
              "        docLink.innerHTML = docLinkHtml;\n",
              "        element.appendChild(docLink);\n",
              "      }\n",
              "    </script>\n",
              "  </div>\n",
              "\n",
              "\n",
              "<div id=\"df-c96b07e7-4a15-492c-9ac2-f0cdd6445465\">\n",
              "  <button class=\"colab-df-quickchart\" onclick=\"quickchart('df-c96b07e7-4a15-492c-9ac2-f0cdd6445465')\"\n",
              "            title=\"Suggest charts\"\n",
              "            style=\"display:none;\">\n",
              "\n",
              "<svg xmlns=\"http://www.w3.org/2000/svg\" height=\"24px\"viewBox=\"0 0 24 24\"\n",
              "     width=\"24px\">\n",
              "    <g>\n",
              "        <path d=\"M19 3H5c-1.1 0-2 .9-2 2v14c0 1.1.9 2 2 2h14c1.1 0 2-.9 2-2V5c0-1.1-.9-2-2-2zM9 17H7v-7h2v7zm4 0h-2V7h2v10zm4 0h-2v-4h2v4z\"/>\n",
              "    </g>\n",
              "</svg>\n",
              "  </button>\n",
              "\n",
              "<style>\n",
              "  .colab-df-quickchart {\n",
              "      --bg-color: #E8F0FE;\n",
              "      --fill-color: #1967D2;\n",
              "      --hover-bg-color: #E2EBFA;\n",
              "      --hover-fill-color: #174EA6;\n",
              "      --disabled-fill-color: #AAA;\n",
              "      --disabled-bg-color: #DDD;\n",
              "  }\n",
              "\n",
              "  [theme=dark] .colab-df-quickchart {\n",
              "      --bg-color: #3B4455;\n",
              "      --fill-color: #D2E3FC;\n",
              "      --hover-bg-color: #434B5C;\n",
              "      --hover-fill-color: #FFFFFF;\n",
              "      --disabled-bg-color: #3B4455;\n",
              "      --disabled-fill-color: #666;\n",
              "  }\n",
              "\n",
              "  .colab-df-quickchart {\n",
              "    background-color: var(--bg-color);\n",
              "    border: none;\n",
              "    border-radius: 50%;\n",
              "    cursor: pointer;\n",
              "    display: none;\n",
              "    fill: var(--fill-color);\n",
              "    height: 32px;\n",
              "    padding: 0;\n",
              "    width: 32px;\n",
              "  }\n",
              "\n",
              "  .colab-df-quickchart:hover {\n",
              "    background-color: var(--hover-bg-color);\n",
              "    box-shadow: 0 1px 2px rgba(60, 64, 67, 0.3), 0 1px 3px 1px rgba(60, 64, 67, 0.15);\n",
              "    fill: var(--button-hover-fill-color);\n",
              "  }\n",
              "\n",
              "  .colab-df-quickchart-complete:disabled,\n",
              "  .colab-df-quickchart-complete:disabled:hover {\n",
              "    background-color: var(--disabled-bg-color);\n",
              "    fill: var(--disabled-fill-color);\n",
              "    box-shadow: none;\n",
              "  }\n",
              "\n",
              "  .colab-df-spinner {\n",
              "    border: 2px solid var(--fill-color);\n",
              "    border-color: transparent;\n",
              "    border-bottom-color: var(--fill-color);\n",
              "    animation:\n",
              "      spin 1s steps(1) infinite;\n",
              "  }\n",
              "\n",
              "  @keyframes spin {\n",
              "    0% {\n",
              "      border-color: transparent;\n",
              "      border-bottom-color: var(--fill-color);\n",
              "      border-left-color: var(--fill-color);\n",
              "    }\n",
              "    20% {\n",
              "      border-color: transparent;\n",
              "      border-left-color: var(--fill-color);\n",
              "      border-top-color: var(--fill-color);\n",
              "    }\n",
              "    30% {\n",
              "      border-color: transparent;\n",
              "      border-left-color: var(--fill-color);\n",
              "      border-top-color: var(--fill-color);\n",
              "      border-right-color: var(--fill-color);\n",
              "    }\n",
              "    40% {\n",
              "      border-color: transparent;\n",
              "      border-right-color: var(--fill-color);\n",
              "      border-top-color: var(--fill-color);\n",
              "    }\n",
              "    60% {\n",
              "      border-color: transparent;\n",
              "      border-right-color: var(--fill-color);\n",
              "    }\n",
              "    80% {\n",
              "      border-color: transparent;\n",
              "      border-right-color: var(--fill-color);\n",
              "      border-bottom-color: var(--fill-color);\n",
              "    }\n",
              "    90% {\n",
              "      border-color: transparent;\n",
              "      border-bottom-color: var(--fill-color);\n",
              "    }\n",
              "  }\n",
              "</style>\n",
              "\n",
              "  <script>\n",
              "    async function quickchart(key) {\n",
              "      const quickchartButtonEl =\n",
              "        document.querySelector('#' + key + ' button');\n",
              "      quickchartButtonEl.disabled = true;  // To prevent multiple clicks.\n",
              "      quickchartButtonEl.classList.add('colab-df-spinner');\n",
              "      try {\n",
              "        const charts = await google.colab.kernel.invokeFunction(\n",
              "            'suggestCharts', [key], {});\n",
              "      } catch (error) {\n",
              "        console.error('Error during call to suggestCharts:', error);\n",
              "      }\n",
              "      quickchartButtonEl.classList.remove('colab-df-spinner');\n",
              "      quickchartButtonEl.classList.add('colab-df-quickchart-complete');\n",
              "    }\n",
              "    (() => {\n",
              "      let quickchartButtonEl =\n",
              "        document.querySelector('#df-c96b07e7-4a15-492c-9ac2-f0cdd6445465 button');\n",
              "      quickchartButtonEl.style.display =\n",
              "        google.colab.kernel.accessAllowed ? 'block' : 'none';\n",
              "    })();\n",
              "  </script>\n",
              "</div>\n",
              "    </div>\n",
              "  </div>\n"
            ]
          },
          "metadata": {},
          "execution_count": 5
        }
      ]
    },
    {
      "cell_type": "code",
      "source": [
        "# Create dataframe of next 500 rows with labeled columns\n",
        "vt_data_next500 = pd.read_csv(\"vt_tax_data_2016.csv\",\n",
        "                       \t\t  nrows=500,\n",
        "                       \t\t  skiprows=499,\n",
        "                       \t\t  header=None,\n",
        "                       \t\t  names=list(data))\n",
        "\n",
        "# View the Vermont dataframes to confirm they're different\n",
        "print(vt_data_first500.head())\n",
        "print(vt_data_next500.head())"
      ],
      "metadata": {
        "colab": {
          "base_uri": "https://localhost:8080/"
        },
        "id": "J28h4KPE9fYc",
        "outputId": "e5614294-6b25-4eca-c753-3e79944fe5f1"
      },
      "execution_count": 6,
      "outputs": [
        {
          "output_type": "stream",
          "name": "stdout",
          "text": [
            "   STATEFIPS STATE  zipcode  agi_stub      N1  mars1  MARS2  MARS4   PREP  \\\n",
            "0         50    VT        0         1  111580  85090  14170  10740  45360   \n",
            "1         50    VT        0         2   82760  51960  18820  11310  35600   \n",
            "2         50    VT        0         3   46270  19540  22650   3620  24140   \n",
            "3         50    VT        0         4   30070   5830  22190    960  16060   \n",
            "4         50    VT        0         5   39530   3900  33800    590  22500   \n",
            "\n",
            "       N2  ...  N10300  A10300  N85530  A85530  N85300  A85300  N11901  \\\n",
            "0  130630  ...   53660   50699       0       0       0       0   10820   \n",
            "1  132950  ...   74340  221146       0       0       0       0   12820   \n",
            "2   91870  ...   44860  266097       0       0       0       0   10810   \n",
            "3   71610  ...   29580  264678       0       0       0       0    7320   \n",
            "4  103710  ...   39170  731963      40      24       0       0   12500   \n",
            "\n",
            "   A11901  N11902  A11902  \n",
            "0    9734   88260  138337  \n",
            "1   20029   68760  151729  \n",
            "2   24499   34600   90583  \n",
            "3   21573   21300   67045  \n",
            "4   67761   23320  103034  \n",
            "\n",
            "[5 rows x 147 columns]\n",
            "   STATEFIPS STATE  zipcode  agi_stub   N1  mars1  MARS2  MARS4  PREP   N2  \\\n",
            "0         50    VT     5356         1  350    290     40     40   120  410   \n",
            "1         50    VT     5356         2  180    120     40      0    90  250   \n",
            "2         50    VT     5356         3   80     50     40      0    40  150   \n",
            "3         50    VT     5356         4   50      0     40      0    40  110   \n",
            "4         50    VT     5356         5   80     20     50      0    60  170   \n",
            "\n",
            "   ...  N10300  A10300  N85530  A85530  N85300  A85300  N11901  A11901  \\\n",
            "0  ...     160     149       0       0       0       0      30      37   \n",
            "1  ...     170     497       0       0       0       0      50      76   \n",
            "2  ...      80     460       0       0       0       0      40     142   \n",
            "3  ...      50     471       0       0       0       0       0       0   \n",
            "4  ...      80    2229       0       0       0       0      30     531   \n",
            "\n",
            "   N11902  A11902  \n",
            "0     290     436  \n",
            "1     130     212  \n",
            "2      50     148  \n",
            "3      30      87  \n",
            "4      30     246  \n",
            "\n",
            "[5 rows x 147 columns]\n"
          ]
        }
      ]
    },
    {
      "cell_type": "code",
      "source": [
        "# Create dict specifying data types for agi_stub and zipcode\n",
        "data_types = {\"agi_stub\":\"category\",\n",
        "\t\t\t  \"zipcode\" : \"object\"}\n",
        "\n",
        "# Load csv using dtype to set correct data types\n",
        "data = pd.read_csv(\"vt_tax_data_2016.csv\", dtype=data_types)\n",
        "\n",
        "# Print data types of resulting frame\n",
        "print(data.dtypes.head())"
      ],
      "metadata": {
        "colab": {
          "base_uri": "https://localhost:8080/"
        },
        "id": "QZ3fJN3eBGJU",
        "outputId": "3834bba2-8ffd-422c-9449-9a0d3c3f731c"
      },
      "execution_count": 7,
      "outputs": [
        {
          "output_type": "stream",
          "name": "stdout",
          "text": [
            "STATEFIPS       int64\n",
            "STATE          object\n",
            "zipcode        object\n",
            "agi_stub     category\n",
            "N1              int64\n",
            "dtype: object\n"
          ]
        }
      ]
    },
    {
      "cell_type": "markdown",
      "source": [
        "#### Handling errors and missing data"
      ],
      "metadata": {
        "id": "QRyaWB1Jggfp"
      }
    },
    {
      "cell_type": "markdown",
      "source": [
        "##### Customizing Missing Data Values"
      ],
      "metadata": {
        "id": "n_DcF_VLhar9"
      }
    },
    {
      "cell_type": "code",
      "source": [
        "# Create dict specifying that 0s in zipcode are NA values\n",
        "null_values = {\"zipcode\":0}\n",
        "\n",
        "# Load csv using na_values keyword argument\n",
        "data = pd.read_csv(\"vt_tax_data_2016.csv\",\n",
        "                   na_values=null_values)\n",
        "\n",
        "# View rows with NA ZIP codes\n",
        "print(data[data.zipcode.isna()])"
      ],
      "metadata": {
        "colab": {
          "base_uri": "https://localhost:8080/"
        },
        "id": "DoMS6G9NP9Tz",
        "outputId": "74d45da6-4b65-4237-f5d7-5978fb2192a4"
      },
      "execution_count": 8,
      "outputs": [
        {
          "output_type": "stream",
          "name": "stdout",
          "text": [
            "   STATEFIPS STATE  zipcode  agi_stub      N1  mars1  MARS2  MARS4   PREP  \\\n",
            "0         50    VT      NaN         1  111580  85090  14170  10740  45360   \n",
            "1         50    VT      NaN         2   82760  51960  18820  11310  35600   \n",
            "2         50    VT      NaN         3   46270  19540  22650   3620  24140   \n",
            "3         50    VT      NaN         4   30070   5830  22190    960  16060   \n",
            "4         50    VT      NaN         5   39530   3900  33800    590  22500   \n",
            "5         50    VT      NaN         6    9620    600   8150      0   7040   \n",
            "\n",
            "       N2  ...  N10300  A10300  N85530  A85530  N85300  A85300  N11901  \\\n",
            "0  130630  ...   53660   50699       0       0       0       0   10820   \n",
            "1  132950  ...   74340  221146       0       0       0       0   12820   \n",
            "2   91870  ...   44860  266097       0       0       0       0   10810   \n",
            "3   71610  ...   29580  264678       0       0       0       0    7320   \n",
            "4  103710  ...   39170  731963      40      24       0       0   12500   \n",
            "5   26430  ...    9600  894432    3350    4939    4990   20428    3900   \n",
            "\n",
            "   A11901  N11902  A11902  \n",
            "0    9734   88260  138337  \n",
            "1   20029   68760  151729  \n",
            "2   24499   34600   90583  \n",
            "3   21573   21300   67045  \n",
            "4   67761   23320  103034  \n",
            "5   93123    2870   39425  \n",
            "\n",
            "[6 rows x 147 columns]\n"
          ]
        }
      ]
    },
    {
      "cell_type": "markdown",
      "source": [
        "#### Lines with Errors"
      ],
      "metadata": {
        "id": "Q0rHXw0IbZiD"
      }
    },
    {
      "cell_type": "code",
      "source": [
        "try:\n",
        "  # Import the CSV without any keyword arguments\n",
        "  data = pd.read_csv('vt_tax_data_2016_corrupt.csv')\n",
        "\n",
        "  # View first 5 records\n",
        "  print(data.head())\n",
        "\n",
        "except pd.errors.ParserError:\n",
        "    print(\"Your data contained rows that could not be parsed.\")"
      ],
      "metadata": {
        "colab": {
          "base_uri": "https://localhost:8080/"
        },
        "id": "V0wvhReMa484",
        "outputId": "dabcca5e-052d-4a8a-fa54-ecaff595bff6"
      },
      "execution_count": 10,
      "outputs": [
        {
          "output_type": "stream",
          "name": "stdout",
          "text": [
            "Your data contained rows that could not be parsed.\n"
          ]
        }
      ]
    },
    {
      "cell_type": "code",
      "source": [
        "# using error_bad_lines will skip rows with errors\n",
        "try:\n",
        "  # Import CSV with error_bad_lines set to skip bad records\n",
        "  data = pd.read_csv(\"vt_tax_data_2016_corrupt.csv\",\n",
        "                     error_bad_lines=False)\n",
        "\n",
        "  # View first 5 records\n",
        "  print(data.head())\n",
        "\n",
        "except pd.errors.ParserError:\n",
        "    print(\"Your data contained rows that could not be parsed.\")"
      ],
      "metadata": {
        "colab": {
          "base_uri": "https://localhost:8080/"
        },
        "id": "Q5JCcGT8bAqy",
        "outputId": "4c59830b-b27f-42b0-cbb5-446d3d70188a"
      },
      "execution_count": 11,
      "outputs": [
        {
          "output_type": "stream",
          "name": "stdout",
          "text": [
            "   STATEFIPS STATE  zipcode  agi_stub      N1  mars1  MARS2  MARS4   PREP  \\\n",
            "0         50    VT        0         1  111580  85090  14170  10740  45360   \n",
            "1         50    VT        0         3   46270  19540  22650   3620  24140   \n",
            "2         50    VT        0         4   30070   5830  22190    960  16060   \n",
            "3         50    VT        0         5   39530   3900  33800    590  22500   \n",
            "4         50    VT        0         6    9620    600   8150      0   7040   \n",
            "\n",
            "       N2  ...  N10300  A10300  N85530  A85530  N85300  A85300  N11901  \\\n",
            "0  130630  ...   53660   50699       0       0       0       0   10820   \n",
            "1   91870  ...   44860  266097       0       0       0       0   10810   \n",
            "2   71610  ...   29580  264678       0       0       0       0    7320   \n",
            "3  103710  ...   39170  731963      40      24       0       0   12500   \n",
            "4   26430  ...    9600  894432    3350    4939    4990   20428    3900   \n",
            "\n",
            "   A11901  N11902  A11902  \n",
            "0    9734   88260  138337  \n",
            "1   24499   34600   90583  \n",
            "2   21573   21300   67045  \n",
            "3   67761   23320  103034  \n",
            "4   93123    2870   39425  \n",
            "\n",
            "[5 rows x 147 columns]\n"
          ]
        },
        {
          "output_type": "stream",
          "name": "stderr",
          "text": [
            "<ipython-input-11-26be141858e0>:4: FutureWarning: The error_bad_lines argument has been deprecated and will be removed in a future version. Use on_bad_lines in the future.\n",
            "\n",
            "\n",
            "  data = pd.read_csv(\"vt_tax_data_2016_corrupt.csv\",\n",
            "Skipping line 3: expected 147 fields, saw 148\n",
            "Skipping line 10: expected 147 fields, saw 148\n",
            "\n"
          ]
        }
      ]
    },
    {
      "cell_type": "code",
      "source": [
        "# using error_bad_lines and wran_bad_lines will skip and print out rows with errors\n",
        "try:\n",
        "  # Set warn_bad_lines to issue warnings about bad records\n",
        "  data = pd.read_csv(\"vt_tax_data_2016_corrupt.csv\",\n",
        "                     error_bad_lines=False,\n",
        "                     warn_bad_lines=True)\n",
        "\n",
        "  # View first 5 records\n",
        "  print(data.head())\n",
        "\n",
        "except pd.errors.ParserError:\n",
        "    print(\"Your data contained rows that could not be parsed.\")\n",
        "\n",
        "# Skipping line 3: expected 147 fields, saw 148\n",
        "# Skipping line 10: expected 147 fields, saw 148"
      ],
      "metadata": {
        "colab": {
          "base_uri": "https://localhost:8080/"
        },
        "id": "KT9Ms0QBbTli",
        "outputId": "e2771a8e-c485-41c6-c177-9116b7ee4b76"
      },
      "execution_count": 12,
      "outputs": [
        {
          "output_type": "stream",
          "name": "stdout",
          "text": [
            "   STATEFIPS STATE  zipcode  agi_stub      N1  mars1  MARS2  MARS4   PREP  \\\n",
            "0         50    VT        0         1  111580  85090  14170  10740  45360   \n",
            "1         50    VT        0         3   46270  19540  22650   3620  24140   \n",
            "2         50    VT        0         4   30070   5830  22190    960  16060   \n",
            "3         50    VT        0         5   39530   3900  33800    590  22500   \n",
            "4         50    VT        0         6    9620    600   8150      0   7040   \n",
            "\n",
            "       N2  ...  N10300  A10300  N85530  A85530  N85300  A85300  N11901  \\\n",
            "0  130630  ...   53660   50699       0       0       0       0   10820   \n",
            "1   91870  ...   44860  266097       0       0       0       0   10810   \n",
            "2   71610  ...   29580  264678       0       0       0       0    7320   \n",
            "3  103710  ...   39170  731963      40      24       0       0   12500   \n",
            "4   26430  ...    9600  894432    3350    4939    4990   20428    3900   \n",
            "\n",
            "   A11901  N11902  A11902  \n",
            "0    9734   88260  138337  \n",
            "1   24499   34600   90583  \n",
            "2   21573   21300   67045  \n",
            "3   67761   23320  103034  \n",
            "4   93123    2870   39425  \n",
            "\n",
            "[5 rows x 147 columns]\n"
          ]
        },
        {
          "output_type": "stream",
          "name": "stderr",
          "text": [
            "<ipython-input-12-0a6c33ff61fe>:4: FutureWarning: The error_bad_lines argument has been deprecated and will be removed in a future version. Use on_bad_lines in the future.\n",
            "\n",
            "\n",
            "  data = pd.read_csv(\"vt_tax_data_2016_corrupt.csv\",\n",
            "<ipython-input-12-0a6c33ff61fe>:4: FutureWarning: The warn_bad_lines argument has been deprecated and will be removed in a future version. Use on_bad_lines in the future.\n",
            "\n",
            "\n",
            "  data = pd.read_csv(\"vt_tax_data_2016_corrupt.csv\",\n",
            "Skipping line 3: expected 147 fields, saw 148\n",
            "Skipping line 10: expected 147 fields, saw 148\n",
            "\n"
          ]
        }
      ]
    },
    {
      "cell_type": "markdown",
      "source": [
        "## Importing Data From Excel Files"
      ],
      "metadata": {
        "id": "01ZNrw0LLVMH"
      }
    },
    {
      "cell_type": "markdown",
      "source": [
        "### Introduction to spreadsheets\n",
        "- Also known as Excel files\n",
        "- Data stored in tabular form, with cells arranged in rows and columns\n",
        "- Unlike ftat files, can have formating and formulas\n",
        "- Multiple spreadsheets can exist in a workbook\n",
        "\n"
      ],
      "metadata": {
        "id": "HQ_EmBsNbkd_"
      }
    },
    {
      "cell_type": "markdown",
      "source": [
        "##### Loading Spreadsheets"
      ],
      "metadata": {
        "id": "V8uERRhah_ss"
      }
    },
    {
      "cell_type": "code",
      "source": [
        "# Load pandas as pd\n",
        "import pandas as pd\n",
        "\n",
        "# Read spreadsheet and assign it to survey_responses\n",
        "survey_responses = pd.read_excel('fcc-new-coder-survey.xlsx')\n",
        "\n",
        "# View the head of the dataframe\n",
        "print(survey_responses.head())"
      ],
      "metadata": {
        "colab": {
          "base_uri": "https://localhost:8080/"
        },
        "id": "oyVeAi4pblds",
        "outputId": "060329a5-a17d-4067-d0f0-1bb13d9a8352"
      },
      "execution_count": 13,
      "outputs": [
        {
          "output_type": "stream",
          "name": "stdout",
          "text": [
            "   FreeCodeCamp New Developer Survey Responses, 2016        Unnamed: 1  \\\n",
            "0  Source: https://www.kaggle.com/freecodecamp/20...               NaN   \n",
            "1                                                Age  AttendedBootcamp   \n",
            "2                                                 28                 0   \n",
            "3                                                 22                 0   \n",
            "4                                                 19                 0   \n",
            "\n",
            "       Unnamed: 2         Unnamed: 3    Unnamed: 4         Unnamed: 5  \\\n",
            "0             NaN                NaN           NaN                NaN   \n",
            "1  BootcampFinish  BootcampLoanYesNo  BootcampName  BootcampRecommend   \n",
            "2             NaN                NaN           NaN                NaN   \n",
            "3             NaN                NaN           NaN                NaN   \n",
            "4             NaN                NaN           NaN                NaN   \n",
            "\n",
            "       Unnamed: 6                     Unnamed: 7            Unnamed: 8  \\\n",
            "0             NaN                            NaN                   NaN   \n",
            "1  ChildrenNumber                 CityPopulation  CodeEventConferences   \n",
            "2             NaN  between 100,000 and 1 million                   NaN   \n",
            "3             NaN  between 100,000 and 1 million                   NaN   \n",
            "4             NaN            more than 1 million                   NaN   \n",
            "\n",
            "             Unnamed: 9  ...          Unnamed: 88         Unnamed: 89  \\\n",
            "0                   NaN  ...                  NaN                 NaN   \n",
            "1  CodeEventDjangoGirls  ...  ResourcePluralSight  ResourceSkillCrush   \n",
            "2                   NaN  ...                  NaN                 NaN   \n",
            "3                   NaN  ...                  NaN                 NaN   \n",
            "4                   NaN  ...                  NaN                 NaN   \n",
            "\n",
            "             Unnamed: 90        Unnamed: 91      Unnamed: 92    Unnamed: 93  \\\n",
            "0                    NaN                NaN              NaN            NaN   \n",
            "1  ResourceStackOverflow  ResourceTreehouse  ResourceUdacity  ResourceUdemy   \n",
            "2                    NaN                NaN              NaN            NaN   \n",
            "3                    NaN                NaN              NaN              1   \n",
            "4                    NaN                NaN              NaN            NaN   \n",
            "\n",
            "         Unnamed: 94                              Unnamed: 95  Unnamed: 96  \\\n",
            "0                NaN                                      NaN          NaN   \n",
            "1  ResourceW3Schools                             SchoolDegree  SchoolMajor   \n",
            "2                NaN           some college credit, no degree          NaN   \n",
            "3                NaN           some college credit, no degree          NaN   \n",
            "4                NaN  high school diploma or equivalent (GED)          NaN   \n",
            "\n",
            "      Unnamed: 97  \n",
            "0             NaN  \n",
            "1  StudentDebtOwe  \n",
            "2           20000  \n",
            "3             NaN  \n",
            "4             NaN  \n",
            "\n",
            "[5 rows x 98 columns]\n"
          ]
        }
      ]
    },
    {
      "cell_type": "markdown",
      "source": [
        "##### Loading Selected Columns and Rows"
      ],
      "metadata": {
        "id": "rBcCGd38iGiF"
      }
    },
    {
      "cell_type": "code",
      "source": [
        "# Create string of lettered columns to load\n",
        "col_string = \"AD, AW:BA\"\n",
        "\n",
        "# Load data with skiprows and usecols set\n",
        "survey_responses = pd.read_excel(\"/content/fcc-new-coder-survey.xlsx\",\n",
        "                        usecols=col_string,\n",
        "                        skiprows=2)\n",
        "\n",
        "# View the names of the columns selected\n",
        "print(survey_responses.columns)"
      ],
      "metadata": {
        "colab": {
          "base_uri": "https://localhost:8080/"
        },
        "id": "Jtd6nQ1WfA28",
        "outputId": "f68b384f-d083-4119-913d-8ac6573430c8"
      },
      "execution_count": 14,
      "outputs": [
        {
          "output_type": "stream",
          "name": "stdout",
          "text": [
            "Index(['ExpectedEarning', 'JobApplyWhen', 'JobPref', 'JobRelocateYesNo',\n",
            "       'JobRoleInterest', 'JobWherePref'],\n",
            "      dtype='object')\n"
          ]
        }
      ]
    },
    {
      "cell_type": "markdown",
      "source": [
        "##### Getting data from multiple worksheets\n"
      ],
      "metadata": {
        "id": "t2tEBgcmiO-P"
      }
    },
    {
      "cell_type": "code",
      "source": [
        "# Create df from second worksheet by referencing its position\n",
        "responses_2017 = pd.read_excel(\"/content/fcc-new-coder-survey.xlsx\",\n",
        "                               sheet_name='2017',\n",
        "                               skiprows=2)\n",
        "# responses_2017.head()\n",
        "# Graph where people would like to get a developer job\n",
        "job_prefs = responses_2017.groupby(\"JobPref\").JobPref.count()\n",
        "job_prefs.plot.barh()\n",
        "plt.show()"
      ],
      "metadata": {
        "colab": {
          "base_uri": "https://localhost:8080/",
          "height": 430
        },
        "id": "QT0QykL7f0Lp",
        "outputId": "da5518df-4977-4ca5-cbb9-7ce49c4a14f7"
      },
      "execution_count": 15,
      "outputs": [
        {
          "output_type": "display_data",
          "data": {
            "text/plain": [
              "<Figure size 640x480 with 1 Axes>"
            ],
            "image/png": "[encoded data removed]"
          },
          "metadata": {}
        }
      ]
    },
    {
      "cell_type": "code",
      "source": [
        "# Load both the 2016 and 2017 sheets by name\n",
        "all_survey_data = pd.read_excel(\"/content/fcc-new-coder-survey.xlsx\",\n",
        "                                skiprows=2,\n",
        "                                sheet_name=None)\n",
        "\n",
        "# View the data type of all_survey_data\n",
        "print(type(all_survey_data))"
      ],
      "metadata": {
        "colab": {
          "base_uri": "https://localhost:8080/"
        },
        "id": "qaq6ReWqjfWD",
        "outputId": "4e02604b-1315-4283-ca99-61767b501225"
      },
      "execution_count": 16,
      "outputs": [
        {
          "output_type": "stream",
          "name": "stdout",
          "text": [
            "<class 'dict'>\n"
          ]
        }
      ]
    },
    {
      "cell_type": "code",
      "source": [
        "# Create an empty dataframe\n",
        "all_responses = pd.DataFrame()\n",
        "\n",
        "# Set up for loop to iterate through values in responses\n",
        "for df in all_survey_data.items():\n",
        "    # Print the number of rows being added\n",
        "    print(\"Adding {} rows\".format(df[1].shape[0]))\n",
        "    # Append df to all_responses, assign result\n",
        "    all_responses = all_responses.append(df[1])\n",
        "\n",
        "# Graph employment statuses in sample\n",
        "counts = all_responses.groupby(\"EmploymentStatus\").EmploymentStatus.count()\n",
        "counts.plot.barh()\n",
        "plt.show()"
      ],
      "metadata": {
        "colab": {
          "base_uri": "https://localhost:8080/",
          "height": 499
        },
        "id": "yhZdESmmkqIK",
        "outputId": "0aa429b7-3425-495f-e8a0-b360351dd4eb"
      },
      "execution_count": 17,
      "outputs": [
        {
          "output_type": "stream",
          "name": "stdout",
          "text": [
            "Adding 1000 rows\n",
            "Adding 1000 rows\n"
          ]
        },
        {
          "output_type": "stream",
          "name": "stderr",
          "text": [
            "<ipython-input-17-8af12a7ac4aa>:9: FutureWarning: The frame.append method is deprecated and will be removed from pandas in a future version. Use pandas.concat instead.\n",
            "  all_responses = all_responses.append(df[1])\n"
          ]
        },
        {
          "output_type": "display_data",
          "data": {
            "text/plain": [
              "<Figure size 640x480 with 1 Axes>"
            ],
            "image/png": "[encoded data removed]"
          },
          "metadata": {}
        }
      ]
    },
    {
      "cell_type": "code",
      "source": [
        "# # Set dtype to load appropriate column(s) as Boolean data\n",
        "# survey_data = pd.read_excel(\"fcc_survey_subset.xlsx\",\n",
        "#                             dtype={'HasDebt':bool})\n",
        "\n",
        "# # View financial burdens by Boolean group\n",
        "# print(survey_data.groupby('HasDebt').sum())"
      ],
      "metadata": {
        "id": "4Tc_zGJFm0_U"
      },
      "execution_count": 18,
      "outputs": []
    },
    {
      "cell_type": "code",
      "source": [
        "# # Load file with Yes as a True value and No as a False value\n",
        "# survey_subset = pd.read_excel(\"fcc_survey_yn_data.xlsx\",\n",
        "#                               dtype={\"HasDebt\": bool,\n",
        "#                               \"AttendedBootCampYesNo\": bool},\n",
        "#                               true_values=['Yes'],\n",
        "#                               false_values=['No'])\n",
        "\n",
        "# # View the data\n",
        "# print(survey_subset.head())"
      ],
      "metadata": {
        "id": "RtDnGEsMq0_G"
      },
      "execution_count": 19,
      "outputs": []
    },
    {
      "cell_type": "markdown",
      "source": [
        "##### Modifying imports: parsing dates\n"
      ],
      "metadata": {
        "id": "1ZtqiUS0ifr3"
      }
    },
    {
      "cell_type": "markdown",
      "source": [
        "###### Parsing Standard DateTime Format"
      ],
      "metadata": {
        "id": "by0QYE0niukE"
      }
    },
    {
      "cell_type": "code",
      "source": [
        "# Load both the 2016 and 2017 sheets by name\n",
        "survey_data = pd.read_excel(\"/content/fcc_survey_dates.xlsx\",\n",
        "                            parse_dates=['Part1StartTime'])\n",
        "\n",
        "# Print first few values of Part1StartTime\n",
        "print(survey_data.Part1StartTime.head())"
      ],
      "metadata": {
        "colab": {
          "base_uri": "https://localhost:8080/"
        },
        "id": "KkqjDZWTvQiP",
        "outputId": "fb0420b2-6ce3-48e0-d507-ad2a9abccd01"
      },
      "execution_count": 20,
      "outputs": [
        {
          "output_type": "stream",
          "name": "stdout",
          "text": [
            "0   2016-03-29 21:23:13\n",
            "1   2016-03-29 21:24:59\n",
            "2   2016-03-29 21:25:37\n",
            "3   2016-03-29 21:21:37\n",
            "4   2016-03-29 21:26:22\n",
            "Name: Part1StartTime, dtype: datetime64[ns]\n"
          ]
        }
      ]
    },
    {
      "cell_type": "code",
      "source": [
        "# Create dict of columns to combine into new datetime column\n",
        "datetime_cols = {\"Part2Start\": ['Part2StartDate','Part2StartTime']}\n",
        "\n",
        "\n",
        "# Load file, supplying the dict to parse_dates\n",
        "survey_data = pd.read_excel(\"/content/fcc_survey_dates.xlsx\",\n",
        "                            parse_dates=datetime_cols)\n",
        "\n",
        "# View summary statistics about Part2Start\n",
        "print(survey_data.Part2Start.describe())"
      ],
      "metadata": {
        "colab": {
          "base_uri": "https://localhost:8080/"
        },
        "id": "XR_WvCfSvsM5",
        "outputId": "d8df7932-b3c0-493d-9415-7053cff0df4b"
      },
      "execution_count": 21,
      "outputs": [
        {
          "output_type": "stream",
          "name": "stdout",
          "text": [
            "count                    1000\n",
            "unique                    987\n",
            "top       2016-03-30 08:30:11\n",
            "freq                        2\n",
            "first     2016-03-29 21:27:25\n",
            "last      2016-03-31 23:05:48\n",
            "Name: Part2Start, dtype: object\n"
          ]
        },
        {
          "output_type": "stream",
          "name": "stderr",
          "text": [
            "<ipython-input-21-fc28e086d2d6>:10: FutureWarning: Treating datetime data as categorical rather than numeric in `.describe` is deprecated and will be removed in a future version of pandas. Specify `datetime_is_numeric=True` to silence this warning and adopt the future behavior now.\n",
            "  print(survey_data.Part2Start.describe())\n"
          ]
        }
      ]
    },
    {
      "cell_type": "markdown",
      "source": [
        "###### Parsing Non Standard Date Time format"
      ],
      "metadata": {
        "id": "F3VQ3rk2i0P0"
      }
    },
    {
      "cell_type": "code",
      "source": [
        "# Parse datetimes and assign result back to Part2EndTime\n",
        "survey_data[\"Part2EndTime\"] = pd.to_datetime(survey_data['Part2EndTime'],\n",
        "                                   \"%m%d%Y %H:%M:%S\")\n",
        "survey_data[\"Part2EndTime\"].head()"
      ],
      "metadata": {
        "colab": {
          "base_uri": "https://localhost:8080/"
        },
        "id": "39rr_ZDXwGBT",
        "outputId": "2a923586-8800-43a1-c512-28d925cc7468"
      },
      "execution_count": 22,
      "outputs": [
        {
          "output_type": "execute_result",
          "data": {
            "text/plain": [
              "0   2016-03-29 21:24:57\n",
              "1   2016-03-29 21:27:14\n",
              "2   2016-03-29 21:27:13\n",
              "3   2016-03-29 21:28:51\n",
              "4   2016-03-29 21:29:32\n",
              "Name: Part2EndTime, dtype: datetime64[ns]"
            ]
          },
          "metadata": {},
          "execution_count": 22
        }
      ]
    },
    {
      "cell_type": "markdown",
      "source": [
        "## Importing Data from Databases"
      ],
      "metadata": {
        "id": "Go4AtksOLcWj"
      }
    },
    {
      "cell_type": "markdown",
      "source": [
        "### Introduction to databases\n",
        "\n",
        "**Relational Databases**\n",
        "- Data about entities is organized into tables\n",
        "- Each row or record is an instance of an entity\n",
        "- Each column has information about an atribute\n",
        "- Tables can be linked to each other via unique keys\n",
        "- Support more data, multiple simultaneous users, and data quality controls\n",
        "- Data types are specified for each column\n",
        "- SQL(Structured Query Language) to interact with databases\n"
      ],
      "metadata": {
        "id": "I1ZbsYFcx-Qp"
      }
    },
    {
      "cell_type": "code",
      "source": [
        "!pip install --force-reinstall 'sqlalchemy < 2.0.0'\n",
        "# Run this line and restart runtime to fix AttributeError: ‘optionengine’ object has no attribute ‘execute’"
      ],
      "metadata": {
        "colab": {
          "base_uri": "https://localhost:8080/"
        },
        "id": "z2ET6deYAXrr",
        "outputId": "9b1cc79c-c977-4647-9050-26f30043b463"
      },
      "execution_count": 23,
      "outputs": [
        {
          "output_type": "stream",
          "name": "stdout",
          "text": [
            "Collecting sqlalchemy<2.0.0\n",
            "  Downloading SQLAlchemy-1.4.50-cp310-cp310-manylinux_2_5_x86_64.manylinux1_x86_64.manylinux_2_17_x86_64.manylinux2014_x86_64.whl (1.6 MB)\n",
            "\u001b[2K     \u001b[90m━━━━━━━━━━━━━━━━━━━━━━━━━━━━━━━━━━━━━━━━\u001b[0m \u001b[32m1.6/1.6 MB\u001b[0m \u001b[31m11.6 MB/s\u001b[0m eta \u001b[36m0:00:00\u001b[0m\n",
            "\u001b[?25hCollecting greenlet!=0.4.17 (from sqlalchemy<2.0.0)\n",
            "  Downloading greenlet-3.0.1-cp310-cp310-manylinux_2_24_x86_64.manylinux_2_28_x86_64.whl (613 kB)\n",
            "\u001b[2K     \u001b[90m━━━━━━━━━━━━━━━━━━━━━━━━━━━━━━━━━━━━━━━━\u001b[0m \u001b[32m613.2/613.2 kB\u001b[0m \u001b[31m16.4 MB/s\u001b[0m eta \u001b[36m0:00:00\u001b[0m\n",
            "\u001b[?25hInstalling collected packages: greenlet, sqlalchemy\n",
            "  Attempting uninstall: greenlet\n",
            "    Found existing installation: greenlet 3.0.1\n",
            "    Uninstalling greenlet-3.0.1:\n",
            "      Successfully uninstalled greenlet-3.0.1\n",
            "  Attempting uninstall: sqlalchemy\n",
            "    Found existing installation: SQLAlchemy 2.0.23\n",
            "    Uninstalling SQLAlchemy-2.0.23:\n",
            "      Successfully uninstalled SQLAlchemy-2.0.23\n",
            "\u001b[31mERROR: pip's dependency resolver does not currently take into account all the packages that are installed. This behaviour is the source of the following dependency conflicts.\n",
            "ipython-sql 0.5.0 requires sqlalchemy>=2.0, but you have sqlalchemy 1.4.50 which is incompatible.\u001b[0m\u001b[31m\n",
            "\u001b[0mSuccessfully installed greenlet-3.0.1 sqlalchemy-1.4.50\n"
          ]
        }
      ]
    },
    {
      "cell_type": "markdown",
      "source": [
        "#### Connecting to Databases"
      ],
      "metadata": {
        "id": "FluVTSVTji4U"
      }
    },
    {
      "cell_type": "code",
      "source": [
        "# load pandas and sqlalchemy's create_engine\n",
        "import pandas as pd\n",
        "from sqlalchemy import create_engine\n",
        "from sqlalchemy import inspect\n",
        "\n",
        "# Create database engine to manage connections\n",
        "engine = create_engine('sqlite:///data.db')\n",
        "\n",
        "# View the tables in the database\n",
        "insp = inspect(engine)\n",
        "print(insp.get_table_names())\n",
        "\n",
        "# Load entire weather table by table name\n",
        "weather = pd.read_sql_query(\"SELECT * FROM weather\", engine)"
      ],
      "metadata": {
        "colab": {
          "base_uri": "https://localhost:8080/"
        },
        "id": "yPKKJijixQ5G",
        "outputId": "f7ed0eda-bced-45b8-d6e0-01d378fbc42a"
      },
      "execution_count": 24,
      "outputs": [
        {
          "output_type": "stream",
          "name": "stdout",
          "text": [
            "['boro_census', 'hpd311calls', 'weather']\n"
          ]
        }
      ]
    },
    {
      "cell_type": "code",
      "source": [
        "# Load libraries\n",
        "import pandas as pd\n",
        "from sqlalchemy import create_engine\n",
        "\n",
        "# Create the database engine\n",
        "engine = create_engine('sqlite:///data.db')\n",
        "\n",
        "# Load hpd311calls without any SQL\n",
        "hpd_calls = pd.read_sql(\"hpd311calls\", engine)\n",
        "\n",
        "# View the first few rows of data\n",
        "print(hpd_calls.head())"
      ],
      "metadata": {
        "colab": {
          "base_uri": "https://localhost:8080/"
        },
        "id": "fL_zQGCV9zBh",
        "outputId": "57e1e873-a580-4732-aef4-a47c4bd698f4"
      },
      "execution_count": 25,
      "outputs": [
        {
          "output_type": "stream",
          "name": "stdout",
          "text": [
            "  unique_key created_date agency  complaint_type incident_zip  \\\n",
            "0   38070822   01/01/2018    HPD  HEAT/HOT WATER        10468   \n",
            "1   38065299   01/01/2018    HPD        PLUMBING        10003   \n",
            "2   38066653   01/01/2018    HPD  HEAT/HOT WATER        10452   \n",
            "3   38070264   01/01/2018    HPD  HEAT/HOT WATER        10032   \n",
            "4   38072466   01/01/2018    HPD  HEAT/HOT WATER        11213   \n",
            "\n",
            "       incident_address community_board    borough  \n",
            "0    2786 JEROME AVENUE        07 BRONX      BRONX  \n",
            "1  323 EAST   12 STREET    03 MANHATTAN  MANHATTAN  \n",
            "2  1235 GRAND CONCOURSE        04 BRONX      BRONX  \n",
            "3  656 WEST  171 STREET    12 MANHATTAN  MANHATTAN  \n",
            "4       1030 PARK PLACE     08 BROOKLYN   BROOKLYN  \n"
          ]
        }
      ]
    },
    {
      "cell_type": "markdown",
      "source": [
        "#### Refining imports with SQL queries"
      ],
      "metadata": {
        "id": "_RqPIwPWj6Zd"
      }
    },
    {
      "cell_type": "markdown",
      "source": [
        "##### Selecting Columns"
      ],
      "metadata": {
        "id": "jDTeiz0RkDgd"
      }
    },
    {
      "cell_type": "code",
      "source": [
        "# Create database engine for data.db\n",
        "engine = create_engine(\"sqlite:///data.db\")\n",
        "\n",
        "# Write query to get date, tmax, and tmin from weather\n",
        "query = \"\"\"\n",
        "SELECT date,\n",
        "       tmax,\n",
        "       tmin\n",
        "  FROM weather;\n",
        "\"\"\"\n",
        "\n",
        "# Make a dataframe by passing query and engine to read_sql()\n",
        "temperatures = pd.read_sql(query, engine)\n",
        "\n",
        "# View the resulting dataframe\n",
        "print(temperatures)"
      ],
      "metadata": {
        "colab": {
          "base_uri": "https://localhost:8080/"
        },
        "id": "dw1QKKzj9-xH",
        "outputId": "95551074-0702-4338-ebda-91a7a4ca3559"
      },
      "execution_count": 26,
      "outputs": [
        {
          "output_type": "stream",
          "name": "stdout",
          "text": [
            "           date  tmax  tmin\n",
            "0    12/01/2017    52    42\n",
            "1    12/02/2017    48    39\n",
            "2    12/03/2017    48    42\n",
            "3    12/04/2017    51    40\n",
            "4    12/05/2017    61    50\n",
            "..          ...   ...   ...\n",
            "116  03/27/2018    47    34\n",
            "117  03/28/2018    52    38\n",
            "118  03/29/2018    53    49\n",
            "119  03/30/2018    62    44\n",
            "120  03/31/2018    58    39\n",
            "\n",
            "[121 rows x 3 columns]\n"
          ]
        }
      ]
    },
    {
      "cell_type": "markdown",
      "source": [
        "##### Selecting Rows"
      ],
      "metadata": {
        "id": "uuu-YEkZkIFV"
      }
    },
    {
      "cell_type": "code",
      "source": [
        "# Create query to get hpd311calls records about safety\n",
        "query = \"\"\"\n",
        "SELECT *\n",
        "FROM hpd311calls\n",
        "WHERE complaint_type LIKE '%SAFETY%';\n",
        "\"\"\"\n",
        "\n",
        "# Query the database and assign result to safety_calls\n",
        "safety_calls = pd.read_sql(query, engine)\n",
        "\n",
        "# Graph the number of safety calls by borough\n",
        "call_counts = safety_calls.groupby('borough').unique_key.count()\n",
        "call_counts.plot.barh()\n",
        "plt.show()"
      ],
      "metadata": {
        "colab": {
          "base_uri": "https://localhost:8080/",
          "height": 430
        },
        "id": "frQPhX10Dtzx",
        "outputId": "690eadb5-1edd-4460-ed53-bebd204289e8"
      },
      "execution_count": 27,
      "outputs": [
        {
          "output_type": "display_data",
          "data": {
            "text/plain": [
              "<Figure size 640x480 with 1 Axes>"
            ],
            "image/png": "[encoded data removed]"
          },
          "metadata": {}
        }
      ]
    },
    {
      "cell_type": "markdown",
      "source": [
        "##### Multiple Condition Queries"
      ],
      "metadata": {
        "id": "Aqy7UalrkTq1"
      }
    },
    {
      "cell_type": "code",
      "source": [
        "# Create database engine for data.db\n",
        "engine = create_engine(\"sqlite:///data.db\")\n",
        "\n",
        "# Create query for records with max temps <= 32 or snow >= 1\n",
        "query = \"\"\"\n",
        "SELECT *\n",
        "FROM weather\n",
        "WHERE tmax <= 32 OR\n",
        "  snow >= 1;\n",
        "\"\"\"\n",
        "\n",
        "# Query database and assign result to wintry_days\n",
        "wintry_days = pd.read_sql(query, engine)\n",
        "\n",
        "# View summary stats about the temperatures\n",
        "print(wintry_days.describe())"
      ],
      "metadata": {
        "colab": {
          "base_uri": "https://localhost:8080/"
        },
        "id": "adXp-2vXEE0H",
        "outputId": "6af47765-855e-46e9-c1df-de86abf24051"
      },
      "execution_count": 28,
      "outputs": [
        {
          "output_type": "stream",
          "name": "stdout",
          "text": [
            "           latitude     longitude     elevation       awnd      prcp  \\\n",
            "count  2.500000e+01  2.500000e+01  2.500000e+01  25.000000  25.00000   \n",
            "mean   4.077898e+01 -7.396925e+01  4.270000e+01   7.739600   0.17600   \n",
            "std    7.251946e-15  1.450389e-14  7.251946e-15   2.621778   0.36947   \n",
            "min    4.077898e+01 -7.396925e+01  4.270000e+01   3.130000   0.00000   \n",
            "25%    4.077898e+01 -7.396925e+01  4.270000e+01   5.820000   0.00000   \n",
            "50%    4.077898e+01 -7.396925e+01  4.270000e+01   7.830000   0.00000   \n",
            "75%    4.077898e+01 -7.396925e+01  4.270000e+01   9.170000   0.09000   \n",
            "max    4.077898e+01 -7.396925e+01  4.270000e+01  12.970000   1.41000   \n",
            "\n",
            "            snow       tmax       tmin  \n",
            "count  25.000000  25.000000  25.000000  \n",
            "mean    1.332000  27.320000  17.160000  \n",
            "std     2.685256   7.122266   7.673982  \n",
            "min     0.000000  13.000000   5.000000  \n",
            "25%     0.000000  22.000000  11.000000  \n",
            "50%     0.000000  28.000000  17.000000  \n",
            "75%     1.200000  31.000000  20.000000  \n",
            "max     9.800000  40.000000  33.000000  \n"
          ]
        }
      ]
    },
    {
      "cell_type": "markdown",
      "source": [
        "##### Getiing distinct values"
      ],
      "metadata": {
        "id": "FT7hh3vAkgi0"
      }
    },
    {
      "cell_type": "code",
      "source": [
        "# Create query for unique combinations of borough and complaint_type\n",
        "query = \"\"\"\n",
        "SELECT DISTINCT borough,\n",
        "       complaint_type\n",
        "  FROM hpd311calls;\n",
        "\"\"\"\n",
        "\n",
        "# Load results of query to a dataframe\n",
        "issues_and_boros = pd.read_sql(query, engine)\n",
        "\n",
        "# Check assumption about issues and boroughs\n",
        "print(issues_and_boros)"
      ],
      "metadata": {
        "colab": {
          "base_uri": "https://localhost:8080/"
        },
        "id": "OAeKczghEu5G",
        "outputId": "e1ee903d-3a87-454d-856c-80b50d7c796d"
      },
      "execution_count": 29,
      "outputs": [
        {
          "output_type": "stream",
          "name": "stdout",
          "text": [
            "          borough    complaint_type\n",
            "0           BRONX    HEAT/HOT WATER\n",
            "1       MANHATTAN          PLUMBING\n",
            "2       MANHATTAN    HEAT/HOT WATER\n",
            "3        BROOKLYN    HEAT/HOT WATER\n",
            "4          QUEENS    HEAT/HOT WATER\n",
            "..            ...               ...\n",
            "60      MANHATTAN  OUTSIDE BUILDING\n",
            "61      MANHATTAN          ELEVATOR\n",
            "62       BROOKLYN  OUTSIDE BUILDING\n",
            "63  STATEN ISLAND            SAFETY\n",
            "64  STATEN ISLAND  OUTSIDE BUILDING\n",
            "\n",
            "[65 rows x 2 columns]\n"
          ]
        }
      ]
    },
    {
      "cell_type": "markdown",
      "source": [
        "##### Aggregation with Group By"
      ],
      "metadata": {
        "id": "sFH_XRkRkm88"
      }
    },
    {
      "cell_type": "code",
      "source": [
        "# Create query to get call counts by complaint_type\n",
        "query = \"\"\"\n",
        "SELECT complaint_type,\n",
        "     COUNT(*)\n",
        "  FROM hpd311calls\n",
        "  GROUP BY complaint_type;\n",
        "\"\"\"\n",
        "\n",
        "# Create dataframe of call counts by issue\n",
        "calls_by_issue = pd.read_sql(query, engine)\n",
        "\n",
        "# Graph the number of calls for each housing issue\n",
        "calls_by_issue.plot.barh(x=\"complaint_type\")\n",
        "plt.show()"
      ],
      "metadata": {
        "colab": {
          "base_uri": "https://localhost:8080/",
          "height": 430
        },
        "id": "_iQRuaOwGpxk",
        "outputId": "e788a809-4dd7-45ec-c85b-5741ffa87ca8"
      },
      "execution_count": 30,
      "outputs": [
        {
          "output_type": "display_data",
          "data": {
            "text/plain": [
              "<Figure size 640x480 with 1 Axes>"
            ],
            "image/png": "[encoded data removed]"
          },
          "metadata": {}
        }
      ]
    },
    {
      "cell_type": "code",
      "source": [
        "# Create a query to get month and max tmax by month\n",
        "query = \"\"\"\n",
        "SELECT month,\n",
        "       MAX(tmax),\n",
        "       MIN(tmin),\n",
        "       SUM(prcp)\n",
        "  FROM weather\n",
        "  GROUP BY month;\"\"\"\n",
        "\n",
        "# Get dataframe of monthly weather stats\n",
        "weather_by_month = pd.read_sql(query, engine)\n",
        "\n",
        "# View weather stats by month\n",
        "print(weather_by_month)"
      ],
      "metadata": {
        "colab": {
          "base_uri": "https://localhost:8080/"
        },
        "id": "y_ilK1tGG8fS",
        "outputId": "d8ce55a0-025d-44e3-b152-7ac495f35759"
      },
      "execution_count": 31,
      "outputs": [
        {
          "output_type": "stream",
          "name": "stdout",
          "text": [
            "      month  MAX(tmax)  MIN(tmin)  SUM(prcp)\n",
            "0  December         61          9       2.21\n",
            "1  February         78         16       5.83\n",
            "2   January         61          5       2.18\n",
            "3     March         62         27       5.17\n"
          ]
        }
      ]
    },
    {
      "cell_type": "markdown",
      "source": [
        "### Loading multiple tables with joins"
      ],
      "metadata": {
        "id": "K39kn6M-IUOd"
      }
    },
    {
      "cell_type": "code",
      "source": [
        "# Create database engine for data.db\n",
        "engine = create_engine(\"sqlite:///data.db\")\n",
        "\n",
        "# Query to join weather to call records by date columns\n",
        "query = \"\"\"\n",
        "SELECT *\n",
        "  FROM hpd311calls\n",
        "  JOIN weather\n",
        "  ON hpd311calls.created_date = weather.date;\n",
        "\"\"\"\n",
        "\n",
        "# Create dataframe of joined tables\n",
        "calls_with_weather = pd.read_sql(query, engine)\n",
        "\n",
        "# View the dataframe to make sure all columns were joined\n",
        "calls_with_weather.head()"
      ],
      "metadata": {
        "colab": {
          "base_uri": "https://localhost:8080/",
          "height": 516
        },
        "id": "zaAYBo10HQIO",
        "outputId": "ba8571c9-ea67-4d17-dc06-c9546a4898d6"
      },
      "execution_count": 32,
      "outputs": [
        {
          "output_type": "execute_result",
          "data": {
            "text/plain": [
              "  unique_key created_date agency  complaint_type incident_zip  \\\n",
              "0   38070822   01/01/2018    HPD  HEAT/HOT WATER        10468   \n",
              "1   38065299   01/01/2018    HPD        PLUMBING        10003   \n",
              "2   38066653   01/01/2018    HPD  HEAT/HOT WATER        10452   \n",
              "3   38070264   01/01/2018    HPD  HEAT/HOT WATER        10032   \n",
              "4   38072466   01/01/2018    HPD  HEAT/HOT WATER        11213   \n",
              "\n",
              "       incident_address community_board    borough      station  \\\n",
              "0    2786 JEROME AVENUE        07 BRONX      BRONX  USW00094728   \n",
              "1  323 EAST   12 STREET    03 MANHATTAN  MANHATTAN  USW00094728   \n",
              "2  1235 GRAND CONCOURSE        04 BRONX      BRONX  USW00094728   \n",
              "3  656 WEST  171 STREET    12 MANHATTAN  MANHATTAN  USW00094728   \n",
              "4       1030 PARK PLACE     08 BROOKLYN   BROOKLYN  USW00094728   \n",
              "\n",
              "                          name  ...  longitude  elevation        date  \\\n",
              "0  NY CITY CENTRAL PARK, NY US  ...  -73.96925       42.7  01/01/2018   \n",
              "1  NY CITY CENTRAL PARK, NY US  ...  -73.96925       42.7  01/01/2018   \n",
              "2  NY CITY CENTRAL PARK, NY US  ...  -73.96925       42.7  01/01/2018   \n",
              "3  NY CITY CENTRAL PARK, NY US  ...  -73.96925       42.7  01/01/2018   \n",
              "4  NY CITY CENTRAL PARK, NY US  ...  -73.96925       42.7  01/01/2018   \n",
              "\n",
              "     month  awnd  prcp  snow  tavg tmax  tmin  \n",
              "0  January  7.83   0.0   0.0         19     7  \n",
              "1  January  7.83   0.0   0.0         19     7  \n",
              "2  January  7.83   0.0   0.0         19     7  \n",
              "3  January  7.83   0.0   0.0         19     7  \n",
              "4  January  7.83   0.0   0.0         19     7  \n",
              "\n",
              "[5 rows x 21 columns]"
            ],
            "text/html": [
              "\n",
              "  <div id=\"df-1c29207f-ed15-4642-a395-cd91820fe75d\" class=\"colab-df-container\">\n",
              "    <div>\n",
              "<style scoped>\n",
              "    .dataframe tbody tr th:only-of-type {\n",
              "        vertical-align: middle;\n",
              "    }\n",
              "\n",
              "    .dataframe tbody tr th {\n",
              "        vertical-align: top;\n",
              "    }\n",
              "\n",
              "    .dataframe thead th {\n",
              "        text-align: right;\n",
              "    }\n",
              "</style>\n",
              "<table border=\"1\" class=\"dataframe\">\n",
              "  <thead>\n",
              "    <tr style=\"text-align: right;\">\n",
              "      <th></th>\n",
              "      <th>unique_key</th>\n",
              "      <th>created_date</th>\n",
              "      <th>agency</th>\n",
              "      <th>complaint_type</th>\n",
              "      <th>incident_zip</th>\n",
              "      <th>incident_address</th>\n",
              "      <th>community_board</th>\n",
              "      <th>borough</th>\n",
              "      <th>station</th>\n",
              "      <th>name</th>\n",
              "      <th>...</th>\n",
              "      <th>longitude</th>\n",
              "      <th>elevation</th>\n",
              "      <th>date</th>\n",
              "      <th>month</th>\n",
              "      <th>awnd</th>\n",
              "      <th>prcp</th>\n",
              "      <th>snow</th>\n",
              "      <th>tavg</th>\n",
              "      <th>tmax</th>\n",
              "      <th>tmin</th>\n",
              "    </tr>\n",
              "  </thead>\n",
              "  <tbody>\n",
              "    <tr>\n",
              "      <th>0</th>\n",
              "      <td>38070822</td>\n",
              "      <td>01/01/2018</td>\n",
              "      <td>HPD</td>\n",
              "      <td>HEAT/HOT WATER</td>\n",
              "      <td>10468</td>\n",
              "      <td>2786 JEROME AVENUE</td>\n",
              "      <td>07 BRONX</td>\n",
              "      <td>BRONX</td>\n",
              "      <td>USW00094728</td>\n",
              "      <td>NY CITY CENTRAL PARK, NY US</td>\n",
              "      <td>...</td>\n",
              "      <td>-73.96925</td>\n",
              "      <td>42.7</td>\n",
              "      <td>01/01/2018</td>\n",
              "      <td>January</td>\n",
              "      <td>7.83</td>\n",
              "      <td>0.0</td>\n",
              "      <td>0.0</td>\n",
              "      <td></td>\n",
              "      <td>19</td>\n",
              "      <td>7</td>\n",
              "    </tr>\n",
              "    <tr>\n",
              "      <th>1</th>\n",
              "      <td>38065299</td>\n",
              "      <td>01/01/2018</td>\n",
              "      <td>HPD</td>\n",
              "      <td>PLUMBING</td>\n",
              "      <td>10003</td>\n",
              "      <td>323 EAST   12 STREET</td>\n",
              "      <td>03 MANHATTAN</td>\n",
              "      <td>MANHATTAN</td>\n",
              "      <td>USW00094728</td>\n",
              "      <td>NY CITY CENTRAL PARK, NY US</td>\n",
              "      <td>...</td>\n",
              "      <td>-73.96925</td>\n",
              "      <td>42.7</td>\n",
              "      <td>01/01/2018</td>\n",
              "      <td>January</td>\n",
              "      <td>7.83</td>\n",
              "      <td>0.0</td>\n",
              "      <td>0.0</td>\n",
              "      <td></td>\n",
              "      <td>19</td>\n",
              "      <td>7</td>\n",
              "    </tr>\n",
              "    <tr>\n",
              "      <th>2</th>\n",
              "      <td>38066653</td>\n",
              "      <td>01/01/2018</td>\n",
              "      <td>HPD</td>\n",
              "      <td>HEAT/HOT WATER</td>\n",
              "      <td>10452</td>\n",
              "      <td>1235 GRAND CONCOURSE</td>\n",
              "      <td>04 BRONX</td>\n",
              "      <td>BRONX</td>\n",
              "      <td>USW00094728</td>\n",
              "      <td>NY CITY CENTRAL PARK, NY US</td>\n",
              "      <td>...</td>\n",
              "      <td>-73.96925</td>\n",
              "      <td>42.7</td>\n",
              "      <td>01/01/2018</td>\n",
              "      <td>January</td>\n",
              "      <td>7.83</td>\n",
              "      <td>0.0</td>\n",
              "      <td>0.0</td>\n",
              "      <td></td>\n",
              "      <td>19</td>\n",
              "      <td>7</td>\n",
              "    </tr>\n",
              "    <tr>\n",
              "      <th>3</th>\n",
              "      <td>38070264</td>\n",
              "      <td>01/01/2018</td>\n",
              "      <td>HPD</td>\n",
              "      <td>HEAT/HOT WATER</td>\n",
              "      <td>10032</td>\n",
              "      <td>656 WEST  171 STREET</td>\n",
              "      <td>12 MANHATTAN</td>\n",
              "      <td>MANHATTAN</td>\n",
              "      <td>USW00094728</td>\n",
              "      <td>NY CITY CENTRAL PARK, NY US</td>\n",
              "      <td>...</td>\n",
              "      <td>-73.96925</td>\n",
              "      <td>42.7</td>\n",
              "      <td>01/01/2018</td>\n",
              "      <td>January</td>\n",
              "      <td>7.83</td>\n",
              "      <td>0.0</td>\n",
              "      <td>0.0</td>\n",
              "      <td></td>\n",
              "      <td>19</td>\n",
              "      <td>7</td>\n",
              "    </tr>\n",
              "    <tr>\n",
              "      <th>4</th>\n",
              "      <td>38072466</td>\n",
              "      <td>01/01/2018</td>\n",
              "      <td>HPD</td>\n",
              "      <td>HEAT/HOT WATER</td>\n",
              "      <td>11213</td>\n",
              "      <td>1030 PARK PLACE</td>\n",
              "      <td>08 BROOKLYN</td>\n",
              "      <td>BROOKLYN</td>\n",
              "      <td>USW00094728</td>\n",
              "      <td>NY CITY CENTRAL PARK, NY US</td>\n",
              "      <td>...</td>\n",
              "      <td>-73.96925</td>\n",
              "      <td>42.7</td>\n",
              "      <td>01/01/2018</td>\n",
              "      <td>January</td>\n",
              "      <td>7.83</td>\n",
              "      <td>0.0</td>\n",
              "      <td>0.0</td>\n",
              "      <td></td>\n",
              "      <td>19</td>\n",
              "      <td>7</td>\n",
              "    </tr>\n",
              "  </tbody>\n",
              "</table>\n",
              "<p>5 rows × 21 columns</p>\n",
              "</div>\n",
              "    <div class=\"colab-df-buttons\">\n",
              "\n",
              "  <div class=\"colab-df-container\">\n",
              "    <button class=\"colab-df-convert\" onclick=\"convertToInteractive('df-1c29207f-ed15-4642-a395-cd91820fe75d')\"\n",
              "            title=\"Convert this dataframe to an interactive table.\"\n",
              "            style=\"display:none;\">\n",
              "\n",
              "  <svg xmlns=\"http://www.w3.org/2000/svg\" height=\"24px\" viewBox=\"0 -960 960 960\">\n",
              "    <path d=\"M120-120v-720h720v720H120Zm60-500h600v-160H180v160Zm220 220h160v-160H400v160Zm0 220h160v-160H400v160ZM180-400h160v-160H180v160Zm440 0h160v-160H620v160ZM180-180h160v-160H180v160Zm440 0h160v-160H620v160Z\"/>\n",
              "  </svg>\n",
              "    </button>\n",
              "\n",
              "  <style>\n",
              "    .colab-df-container {\n",
              "      display:flex;\n",
              "      gap: 12px;\n",
              "    }\n",
              "\n",
              "    .colab-df-convert {\n",
              "      background-color: #E8F0FE;\n",
              "      border: none;\n",
              "      border-radius: 50%;\n",
              "      cursor: pointer;\n",
              "      display: none;\n",
              "      fill: #1967D2;\n",
              "      height: 32px;\n",
              "      padding: 0 0 0 0;\n",
              "      width: 32px;\n",
              "    }\n",
              "\n",
              "    .colab-df-convert:hover {\n",
              "      background-color: #E2EBFA;\n",
              "      box-shadow: 0px 1px 2px rgba(60, 64, 67, 0.3), 0px 1px 3px 1px rgba(60, 64, 67, 0.15);\n",
              "      fill: #174EA6;\n",
              "    }\n",
              "\n",
              "    .colab-df-buttons div {\n",
              "      margin-bottom: 4px;\n",
              "    }\n",
              "\n",
              "    [theme=dark] .colab-df-convert {\n",
              "      background-color: #3B4455;\n",
              "      fill: #D2E3FC;\n",
              "    }\n",
              "\n",
              "    [theme=dark] .colab-df-convert:hover {\n",
              "      background-color: #434B5C;\n",
              "      box-shadow: 0px 1px 3px 1px rgba(0, 0, 0, 0.15);\n",
              "      filter: drop-shadow(0px 1px 2px rgba(0, 0, 0, 0.3));\n",
              "      fill: #FFFFFF;\n",
              "    }\n",
              "  </style>\n",
              "\n",
              "    <script>\n",
              "      const buttonEl =\n",
              "        document.querySelector('#df-1c29207f-ed15-4642-a395-cd91820fe75d button.colab-df-convert');\n",
              "      buttonEl.style.display =\n",
              "        google.colab.kernel.accessAllowed ? 'block' : 'none';\n",
              "\n",
              "      async function convertToInteractive(key) {\n",
              "        const element = document.querySelector('#df-1c29207f-ed15-4642-a395-cd91820fe75d');\n",
              "        const dataTable =\n",
              "          await google.colab.kernel.invokeFunction('convertToInteractive',\n",
              "                                                    [key], {});\n",
              "        if (!dataTable) return;\n",
              "\n",
              "        const docLinkHtml = 'Like what you see? Visit the ' +\n",
              "          '<a target=\"_blank\" href=https://colab.research.google.com/notebooks/data_table.ipynb>data table notebook</a>'\n",
              "          + ' to learn more about interactive tables.';\n",
              "        element.innerHTML = '';\n",
              "        dataTable['output_type'] = 'display_data';\n",
              "        await google.colab.output.renderOutput(dataTable, element);\n",
              "        const docLink = document.createElement('div');\n",
              "        docLink.innerHTML = docLinkHtml;\n",
              "        element.appendChild(docLink);\n",
              "      }\n",
              "    </script>\n",
              "  </div>\n",
              "\n",
              "\n",
              "<div id=\"df-be426b17-cbce-4054-afbf-9100ec999d4c\">\n",
              "  <button class=\"colab-df-quickchart\" onclick=\"quickchart('df-be426b17-cbce-4054-afbf-9100ec999d4c')\"\n",
              "            title=\"Suggest charts\"\n",
              "            style=\"display:none;\">\n",
              "\n",
              "<svg xmlns=\"http://www.w3.org/2000/svg\" height=\"24px\"viewBox=\"0 0 24 24\"\n",
              "     width=\"24px\">\n",
              "    <g>\n",
              "        <path d=\"M19 3H5c-1.1 0-2 .9-2 2v14c0 1.1.9 2 2 2h14c1.1 0 2-.9 2-2V5c0-1.1-.9-2-2-2zM9 17H7v-7h2v7zm4 0h-2V7h2v10zm4 0h-2v-4h2v4z\"/>\n",
              "    </g>\n",
              "</svg>\n",
              "  </button>\n",
              "\n",
              "<style>\n",
              "  .colab-df-quickchart {\n",
              "      --bg-color: #E8F0FE;\n",
              "      --fill-color: #1967D2;\n",
              "      --hover-bg-color: #E2EBFA;\n",
              "      --hover-fill-color: #174EA6;\n",
              "      --disabled-fill-color: #AAA;\n",
              "      --disabled-bg-color: #DDD;\n",
              "  }\n",
              "\n",
              "  [theme=dark] .colab-df-quickchart {\n",
              "      --bg-color: #3B4455;\n",
              "      --fill-color: #D2E3FC;\n",
              "      --hover-bg-color: #434B5C;\n",
              "      --hover-fill-color: #FFFFFF;\n",
              "      --disabled-bg-color: #3B4455;\n",
              "      --disabled-fill-color: #666;\n",
              "  }\n",
              "\n",
              "  .colab-df-quickchart {\n",
              "    background-color: var(--bg-color);\n",
              "    border: none;\n",
              "    border-radius: 50%;\n",
              "    cursor: pointer;\n",
              "    display: none;\n",
              "    fill: var(--fill-color);\n",
              "    height: 32px;\n",
              "    padding: 0;\n",
              "    width: 32px;\n",
              "  }\n",
              "\n",
              "  .colab-df-quickchart:hover {\n",
              "    background-color: var(--hover-bg-color);\n",
              "    box-shadow: 0 1px 2px rgba(60, 64, 67, 0.3), 0 1px 3px 1px rgba(60, 64, 67, 0.15);\n",
              "    fill: var(--button-hover-fill-color);\n",
              "  }\n",
              "\n",
              "  .colab-df-quickchart-complete:disabled,\n",
              "  .colab-df-quickchart-complete:disabled:hover {\n",
              "    background-color: var(--disabled-bg-color);\n",
              "    fill: var(--disabled-fill-color);\n",
              "    box-shadow: none;\n",
              "  }\n",
              "\n",
              "  .colab-df-spinner {\n",
              "    border: 2px solid var(--fill-color);\n",
              "    border-color: transparent;\n",
              "    border-bottom-color: var(--fill-color);\n",
              "    animation:\n",
              "      spin 1s steps(1) infinite;\n",
              "  }\n",
              "\n",
              "  @keyframes spin {\n",
              "    0% {\n",
              "      border-color: transparent;\n",
              "      border-bottom-color: var(--fill-color);\n",
              "      border-left-color: var(--fill-color);\n",
              "    }\n",
              "    20% {\n",
              "      border-color: transparent;\n",
              "      border-left-color: var(--fill-color);\n",
              "      border-top-color: var(--fill-color);\n",
              "    }\n",
              "    30% {\n",
              "      border-color: transparent;\n",
              "      border-left-color: var(--fill-color);\n",
              "      border-top-color: var(--fill-color);\n",
              "      border-right-color: var(--fill-color);\n",
              "    }\n",
              "    40% {\n",
              "      border-color: transparent;\n",
              "      border-right-color: var(--fill-color);\n",
              "      border-top-color: var(--fill-color);\n",
              "    }\n",
              "    60% {\n",
              "      border-color: transparent;\n",
              "      border-right-color: var(--fill-color);\n",
              "    }\n",
              "    80% {\n",
              "      border-color: transparent;\n",
              "      border-right-color: var(--fill-color);\n",
              "      border-bottom-color: var(--fill-color);\n",
              "    }\n",
              "    90% {\n",
              "      border-color: transparent;\n",
              "      border-bottom-color: var(--fill-color);\n",
              "    }\n",
              "  }\n",
              "</style>\n",
              "\n",
              "  <script>\n",
              "    async function quickchart(key) {\n",
              "      const quickchartButtonEl =\n",
              "        document.querySelector('#' + key + ' button');\n",
              "      quickchartButtonEl.disabled = true;  // To prevent multiple clicks.\n",
              "      quickchartButtonEl.classList.add('colab-df-spinner');\n",
              "      try {\n",
              "        const charts = await google.colab.kernel.invokeFunction(\n",
              "            'suggestCharts', [key], {});\n",
              "      } catch (error) {\n",
              "        console.error('Error during call to suggestCharts:', error);\n",
              "      }\n",
              "      quickchartButtonEl.classList.remove('colab-df-spinner');\n",
              "      quickchartButtonEl.classList.add('colab-df-quickchart-complete');\n",
              "    }\n",
              "    (() => {\n",
              "      let quickchartButtonEl =\n",
              "        document.querySelector('#df-be426b17-cbce-4054-afbf-9100ec999d4c button');\n",
              "      quickchartButtonEl.style.display =\n",
              "        google.colab.kernel.accessAllowed ? 'block' : 'none';\n",
              "    })();\n",
              "  </script>\n",
              "</div>\n",
              "    </div>\n",
              "  </div>\n"
            ]
          },
          "metadata": {},
          "execution_count": 32
        }
      ]
    },
    {
      "cell_type": "markdown",
      "source": [
        "##### Joining And FIltering"
      ],
      "metadata": {
        "id": "ybrdxgaPk0wc"
      }
    },
    {
      "cell_type": "code",
      "source": [
        "# Query to get water leak calls and daily precipitation\n",
        "query = \"\"\"\n",
        "SELECT hpd311calls.*, weather.prcp\n",
        "  FROM hpd311calls\n",
        "  JOIN weather\n",
        "    ON hpd311calls.created_date = weather.date\n",
        "  AND hpd311calls.complaint_type = 'WATER LEAK';\"\"\"\n",
        "\n",
        "# Load query results into the leak_calls dataframe\n",
        "leak_calls = pd.read_sql(query, engine)\n",
        "\n",
        "# View the dataframe\n",
        "leak_calls.head()"
      ],
      "metadata": {
        "colab": {
          "base_uri": "https://localhost:8080/",
          "height": 206
        },
        "id": "Naqt30NYIxFJ",
        "outputId": "3c7888a1-e6c9-4e6d-d56d-d50012bcc331"
      },
      "execution_count": 33,
      "outputs": [
        {
          "output_type": "execute_result",
          "data": {
            "text/plain": [
              "  unique_key created_date agency complaint_type incident_zip  \\\n",
              "0   38074305   01/01/2018    HPD     WATER LEAK        11212   \n",
              "1   38078748   01/01/2018    HPD     WATER LEAK        10458   \n",
              "2   38081097   01/01/2018    HPD     WATER LEAK        11221   \n",
              "3   38077874   01/01/2018    HPD     WATER LEAK        11418   \n",
              "4   38081110   01/01/2018    HPD     WATER LEAK        11420   \n",
              "\n",
              "          incident_address community_board   borough  prcp  \n",
              "0     1026 WILLMOHR STREET     17 BROOKLYN  BROOKLYN   0.0  \n",
              "1       2700 MARION AVENUE        07 BRONX     BRONX   0.0  \n",
              "2  192 MALCOLM X BOULEVARD     03 BROOKLYN  BROOKLYN   0.0  \n",
              "3    129-11 JAMAICA AVENUE       09 QUEENS    QUEENS   0.0  \n",
              "4        111-17 133 STREET       10 QUEENS    QUEENS   0.0  "
            ],
            "text/html": [
              "\n",
              "  <div id=\"df-a5c7896d-a897-415a-97f7-3559ac3e6cf7\" class=\"colab-df-container\">\n",
              "    <div>\n",
              "<style scoped>\n",
              "    .dataframe tbody tr th:only-of-type {\n",
              "        vertical-align: middle;\n",
              "    }\n",
              "\n",
              "    .dataframe tbody tr th {\n",
              "        vertical-align: top;\n",
              "    }\n",
              "\n",
              "    .dataframe thead th {\n",
              "        text-align: right;\n",
              "    }\n",
              "</style>\n",
              "<table border=\"1\" class=\"dataframe\">\n",
              "  <thead>\n",
              "    <tr style=\"text-align: right;\">\n",
              "      <th></th>\n",
              "      <th>unique_key</th>\n",
              "      <th>created_date</th>\n",
              "      <th>agency</th>\n",
              "      <th>complaint_type</th>\n",
              "      <th>incident_zip</th>\n",
              "      <th>incident_address</th>\n",
              "      <th>community_board</th>\n",
              "      <th>borough</th>\n",
              "      <th>prcp</th>\n",
              "    </tr>\n",
              "  </thead>\n",
              "  <tbody>\n",
              "    <tr>\n",
              "      <th>0</th>\n",
              "      <td>38074305</td>\n",
              "      <td>01/01/2018</td>\n",
              "      <td>HPD</td>\n",
              "      <td>WATER LEAK</td>\n",
              "      <td>11212</td>\n",
              "      <td>1026 WILLMOHR STREET</td>\n",
              "      <td>17 BROOKLYN</td>\n",
              "      <td>BROOKLYN</td>\n",
              "      <td>0.0</td>\n",
              "    </tr>\n",
              "    <tr>\n",
              "      <th>1</th>\n",
              "      <td>38078748</td>\n",
              "      <td>01/01/2018</td>\n",
              "      <td>HPD</td>\n",
              "      <td>WATER LEAK</td>\n",
              "      <td>10458</td>\n",
              "      <td>2700 MARION AVENUE</td>\n",
              "      <td>07 BRONX</td>\n",
              "      <td>BRONX</td>\n",
              "      <td>0.0</td>\n",
              "    </tr>\n",
              "    <tr>\n",
              "      <th>2</th>\n",
              "      <td>38081097</td>\n",
              "      <td>01/01/2018</td>\n",
              "      <td>HPD</td>\n",
              "      <td>WATER LEAK</td>\n",
              "      <td>11221</td>\n",
              "      <td>192 MALCOLM X BOULEVARD</td>\n",
              "      <td>03 BROOKLYN</td>\n",
              "      <td>BROOKLYN</td>\n",
              "      <td>0.0</td>\n",
              "    </tr>\n",
              "    <tr>\n",
              "      <th>3</th>\n",
              "      <td>38077874</td>\n",
              "      <td>01/01/2018</td>\n",
              "      <td>HPD</td>\n",
              "      <td>WATER LEAK</td>\n",
              "      <td>11418</td>\n",
              "      <td>129-11 JAMAICA AVENUE</td>\n",
              "      <td>09 QUEENS</td>\n",
              "      <td>QUEENS</td>\n",
              "      <td>0.0</td>\n",
              "    </tr>\n",
              "    <tr>\n",
              "      <th>4</th>\n",
              "      <td>38081110</td>\n",
              "      <td>01/01/2018</td>\n",
              "      <td>HPD</td>\n",
              "      <td>WATER LEAK</td>\n",
              "      <td>11420</td>\n",
              "      <td>111-17 133 STREET</td>\n",
              "      <td>10 QUEENS</td>\n",
              "      <td>QUEENS</td>\n",
              "      <td>0.0</td>\n",
              "    </tr>\n",
              "  </tbody>\n",
              "</table>\n",
              "</div>\n",
              "    <div class=\"colab-df-buttons\">\n",
              "\n",
              "  <div class=\"colab-df-container\">\n",
              "    <button class=\"colab-df-convert\" onclick=\"convertToInteractive('df-a5c7896d-a897-415a-97f7-3559ac3e6cf7')\"\n",
              "            title=\"Convert this dataframe to an interactive table.\"\n",
              "            style=\"display:none;\">\n",
              "\n",
              "  <svg xmlns=\"http://www.w3.org/2000/svg\" height=\"24px\" viewBox=\"0 -960 960 960\">\n",
              "    <path d=\"M120-120v-720h720v720H120Zm60-500h600v-160H180v160Zm220 220h160v-160H400v160Zm0 220h160v-160H400v160ZM180-400h160v-160H180v160Zm440 0h160v-160H620v160ZM180-180h160v-160H180v160Zm440 0h160v-160H620v160Z\"/>\n",
              "  </svg>\n",
              "    </button>\n",
              "\n",
              "  <style>\n",
              "    .colab-df-container {\n",
              "      display:flex;\n",
              "      gap: 12px;\n",
              "    }\n",
              "\n",
              "    .colab-df-convert {\n",
              "      background-color: #E8F0FE;\n",
              "      border: none;\n",
              "      border-radius: 50%;\n",
              "      cursor: pointer;\n",
              "      display: none;\n",
              "      fill: #1967D2;\n",
              "      height: 32px;\n",
              "      padding: 0 0 0 0;\n",
              "      width: 32px;\n",
              "    }\n",
              "\n",
              "    .colab-df-convert:hover {\n",
              "      background-color: #E2EBFA;\n",
              "      box-shadow: 0px 1px 2px rgba(60, 64, 67, 0.3), 0px 1px 3px 1px rgba(60, 64, 67, 0.15);\n",
              "      fill: #174EA6;\n",
              "    }\n",
              "\n",
              "    .colab-df-buttons div {\n",
              "      margin-bottom: 4px;\n",
              "    }\n",
              "\n",
              "    [theme=dark] .colab-df-convert {\n",
              "      background-color: #3B4455;\n",
              "      fill: #D2E3FC;\n",
              "    }\n",
              "\n",
              "    [theme=dark] .colab-df-convert:hover {\n",
              "      background-color: #434B5C;\n",
              "      box-shadow: 0px 1px 3px 1px rgba(0, 0, 0, 0.15);\n",
              "      filter: drop-shadow(0px 1px 2px rgba(0, 0, 0, 0.3));\n",
              "      fill: #FFFFFF;\n",
              "    }\n",
              "  </style>\n",
              "\n",
              "    <script>\n",
              "      const buttonEl =\n",
              "        document.querySelector('#df-a5c7896d-a897-415a-97f7-3559ac3e6cf7 button.colab-df-convert');\n",
              "      buttonEl.style.display =\n",
              "        google.colab.kernel.accessAllowed ? 'block' : 'none';\n",
              "\n",
              "      async function convertToInteractive(key) {\n",
              "        const element = document.querySelector('#df-a5c7896d-a897-415a-97f7-3559ac3e6cf7');\n",
              "        const dataTable =\n",
              "          await google.colab.kernel.invokeFunction('convertToInteractive',\n",
              "                                                    [key], {});\n",
              "        if (!dataTable) return;\n",
              "\n",
              "        const docLinkHtml = 'Like what you see? Visit the ' +\n",
              "          '<a target=\"_blank\" href=https://colab.research.google.com/notebooks/data_table.ipynb>data table notebook</a>'\n",
              "          + ' to learn more about interactive tables.';\n",
              "        element.innerHTML = '';\n",
              "        dataTable['output_type'] = 'display_data';\n",
              "        await google.colab.output.renderOutput(dataTable, element);\n",
              "        const docLink = document.createElement('div');\n",
              "        docLink.innerHTML = docLinkHtml;\n",
              "        element.appendChild(docLink);\n",
              "      }\n",
              "    </script>\n",
              "  </div>\n",
              "\n",
              "\n",
              "<div id=\"df-5aad3b71-a818-4ce7-a3fa-482e63ff235f\">\n",
              "  <button class=\"colab-df-quickchart\" onclick=\"quickchart('df-5aad3b71-a818-4ce7-a3fa-482e63ff235f')\"\n",
              "            title=\"Suggest charts\"\n",
              "            style=\"display:none;\">\n",
              "\n",
              "<svg xmlns=\"http://www.w3.org/2000/svg\" height=\"24px\"viewBox=\"0 0 24 24\"\n",
              "     width=\"24px\">\n",
              "    <g>\n",
              "        <path d=\"M19 3H5c-1.1 0-2 .9-2 2v14c0 1.1.9 2 2 2h14c1.1 0 2-.9 2-2V5c0-1.1-.9-2-2-2zM9 17H7v-7h2v7zm4 0h-2V7h2v10zm4 0h-2v-4h2v4z\"/>\n",
              "    </g>\n",
              "</svg>\n",
              "  </button>\n",
              "\n",
              "<style>\n",
              "  .colab-df-quickchart {\n",
              "      --bg-color: #E8F0FE;\n",
              "      --fill-color: #1967D2;\n",
              "      --hover-bg-color: #E2EBFA;\n",
              "      --hover-fill-color: #174EA6;\n",
              "      --disabled-fill-color: #AAA;\n",
              "      --disabled-bg-color: #DDD;\n",
              "  }\n",
              "\n",
              "  [theme=dark] .colab-df-quickchart {\n",
              "      --bg-color: #3B4455;\n",
              "      --fill-color: #D2E3FC;\n",
              "      --hover-bg-color: #434B5C;\n",
              "      --hover-fill-color: #FFFFFF;\n",
              "      --disabled-bg-color: #3B4455;\n",
              "      --disabled-fill-color: #666;\n",
              "  }\n",
              "\n",
              "  .colab-df-quickchart {\n",
              "    background-color: var(--bg-color);\n",
              "    border: none;\n",
              "    border-radius: 50%;\n",
              "    cursor: pointer;\n",
              "    display: none;\n",
              "    fill: var(--fill-color);\n",
              "    height: 32px;\n",
              "    padding: 0;\n",
              "    width: 32px;\n",
              "  }\n",
              "\n",
              "  .colab-df-quickchart:hover {\n",
              "    background-color: var(--hover-bg-color);\n",
              "    box-shadow: 0 1px 2px rgba(60, 64, 67, 0.3), 0 1px 3px 1px rgba(60, 64, 67, 0.15);\n",
              "    fill: var(--button-hover-fill-color);\n",
              "  }\n",
              "\n",
              "  .colab-df-quickchart-complete:disabled,\n",
              "  .colab-df-quickchart-complete:disabled:hover {\n",
              "    background-color: var(--disabled-bg-color);\n",
              "    fill: var(--disabled-fill-color);\n",
              "    box-shadow: none;\n",
              "  }\n",
              "\n",
              "  .colab-df-spinner {\n",
              "    border: 2px solid var(--fill-color);\n",
              "    border-color: transparent;\n",
              "    border-bottom-color: var(--fill-color);\n",
              "    animation:\n",
              "      spin 1s steps(1) infinite;\n",
              "  }\n",
              "\n",
              "  @keyframes spin {\n",
              "    0% {\n",
              "      border-color: transparent;\n",
              "      border-bottom-color: var(--fill-color);\n",
              "      border-left-color: var(--fill-color);\n",
              "    }\n",
              "    20% {\n",
              "      border-color: transparent;\n",
              "      border-left-color: var(--fill-color);\n",
              "      border-top-color: var(--fill-color);\n",
              "    }\n",
              "    30% {\n",
              "      border-color: transparent;\n",
              "      border-left-color: var(--fill-color);\n",
              "      border-top-color: var(--fill-color);\n",
              "      border-right-color: var(--fill-color);\n",
              "    }\n",
              "    40% {\n",
              "      border-color: transparent;\n",
              "      border-right-color: var(--fill-color);\n",
              "      border-top-color: var(--fill-color);\n",
              "    }\n",
              "    60% {\n",
              "      border-color: transparent;\n",
              "      border-right-color: var(--fill-color);\n",
              "    }\n",
              "    80% {\n",
              "      border-color: transparent;\n",
              "      border-right-color: var(--fill-color);\n",
              "      border-bottom-color: var(--fill-color);\n",
              "    }\n",
              "    90% {\n",
              "      border-color: transparent;\n",
              "      border-bottom-color: var(--fill-color);\n",
              "    }\n",
              "  }\n",
              "</style>\n",
              "\n",
              "  <script>\n",
              "    async function quickchart(key) {\n",
              "      const quickchartButtonEl =\n",
              "        document.querySelector('#' + key + ' button');\n",
              "      quickchartButtonEl.disabled = true;  // To prevent multiple clicks.\n",
              "      quickchartButtonEl.classList.add('colab-df-spinner');\n",
              "      try {\n",
              "        const charts = await google.colab.kernel.invokeFunction(\n",
              "            'suggestCharts', [key], {});\n",
              "      } catch (error) {\n",
              "        console.error('Error during call to suggestCharts:', error);\n",
              "      }\n",
              "      quickchartButtonEl.classList.remove('colab-df-spinner');\n",
              "      quickchartButtonEl.classList.add('colab-df-quickchart-complete');\n",
              "    }\n",
              "    (() => {\n",
              "      let quickchartButtonEl =\n",
              "        document.querySelector('#df-5aad3b71-a818-4ce7-a3fa-482e63ff235f button');\n",
              "      quickchartButtonEl.style.display =\n",
              "        google.colab.kernel.accessAllowed ? 'block' : 'none';\n",
              "    })();\n",
              "  </script>\n",
              "</div>\n",
              "    </div>\n",
              "  </div>\n"
            ]
          },
          "metadata": {},
          "execution_count": 33
        }
      ]
    },
    {
      "cell_type": "code",
      "source": [
        "# Query to get heat/hot water call counts by created_date\n",
        "query = \"\"\"\n",
        "SELECT hpd311calls.created_date,\n",
        "       COUNT(*)\n",
        "  FROM hpd311calls\n",
        "  WHERE hpd311calls.complaint_type = 'HEAT/HOT WATER'\n",
        "  GROUP BY hpd311calls.created_date;\n",
        "\"\"\"\n",
        "\n",
        "# Query database and save results as df\n",
        "df = pd.read_sql(query, engine)\n",
        "\n",
        "# View first 5 records\n",
        "print(df.head())"
      ],
      "metadata": {
        "colab": {
          "base_uri": "https://localhost:8080/"
        },
        "id": "soGzlcQMJoW-",
        "outputId": "2b0e3714-5eeb-48c3-da8b-c9f676eafd8a"
      },
      "execution_count": 34,
      "outputs": [
        {
          "output_type": "stream",
          "name": "stdout",
          "text": [
            "  created_date  COUNT(*)\n",
            "0   01/01/2018      4597\n",
            "1   01/02/2018      4362\n",
            "2   01/03/2018      3045\n",
            "3   01/04/2018      3374\n",
            "4   01/05/2018      4333\n"
          ]
        }
      ]
    },
    {
      "cell_type": "code",
      "source": [
        "# Modify query to join tmax and tmin from weather by date\n",
        "query = \"\"\"\n",
        "SELECT hpd311calls.created_date,\n",
        "\t   COUNT(*),\n",
        "       weather.tmax,\n",
        "       weather.tmin\n",
        "  FROM hpd311calls\n",
        "       JOIN weather\n",
        "       ON hpd311calls.created_date = weather.date\n",
        " WHERE hpd311calls.complaint_type = 'HEAT/HOT WATER'\n",
        " GROUP BY hpd311calls.created_date;\n",
        " \"\"\"\n",
        "\n",
        "# Query database and save results as df\n",
        "df = pd.read_sql(query, engine)\n",
        "\n",
        "# View first 5 records\n",
        "print(df.head())"
      ],
      "metadata": {
        "colab": {
          "base_uri": "https://localhost:8080/"
        },
        "id": "SfRyqkeZKUNq",
        "outputId": "b3aad837-28e7-4002-d8df-13abd38e6c8e"
      },
      "execution_count": 35,
      "outputs": [
        {
          "output_type": "stream",
          "name": "stdout",
          "text": [
            "  created_date  COUNT(*)  tmax  tmin\n",
            "0   01/01/2018      4597    19     7\n",
            "1   01/02/2018      4362    26    13\n",
            "2   01/03/2018      3045    30    16\n",
            "3   01/04/2018      3374    29    19\n",
            "4   01/05/2018      4333    19     9\n"
          ]
        }
      ]
    },
    {
      "cell_type": "code",
      "source": [],
      "metadata": {
        "id": "fud39GWaKxBs"
      },
      "execution_count": 35,
      "outputs": []
    },
    {
      "cell_type": "markdown",
      "source": [
        "## Importing JSON Data and Working with APIs"
      ],
      "metadata": {
        "id": "Uh6iTCE0LHOO"
      }
    },
    {
      "cell_type": "markdown",
      "source": [
        "### Introduction to JSON\n",
        "\n",
        "- Common web data format\n",
        "- Not tabular\n",
        "    * Records don't have to all have the same set of atributes\n",
        "- Data organized into collections of objects\n",
        "- Objects are collections of atribute-value pairs\n",
        "- Nested JSON: objects within objects\n"
      ],
      "metadata": {
        "id": "IBeqe6r3K2QW"
      }
    },
    {
      "cell_type": "markdown",
      "source": [
        "#### Reading JSON Data"
      ],
      "metadata": {
        "id": "KQMmWQlVlIue"
      }
    },
    {
      "cell_type": "code",
      "source": [
        "# Load pandas as pd\n",
        "import pandas as pd\n",
        "\n",
        "# Load the daily report to a dataframe\n",
        "pop_in_shelters = pd.read_json('1MB.json')\n",
        "\n",
        "# View summary stats about pop_in_shelters\n",
        "print(pop_in_shelters.describe())"
      ],
      "metadata": {
        "colab": {
          "base_uri": "https://localhost:8080/"
        },
        "id": "ym5RP4mtK4q7",
        "outputId": "49412c94-3fa2-42cd-b0a1-cc7e49481a48"
      },
      "execution_count": 37,
      "outputs": [
        {
          "output_type": "stream",
          "name": "stdout",
          "text": [
            "           version\n",
            "count  3168.000000\n",
            "mean      5.613409\n",
            "std       2.586392\n",
            "min       1.010000\n",
            "25%       3.600000\n",
            "50%       5.360000\n",
            "75%       7.870000\n",
            "max       9.990000\n"
          ]
        }
      ]
    },
    {
      "cell_type": "code",
      "source": [
        "pop_in_shelters.head()"
      ],
      "metadata": {
        "colab": {
          "base_uri": "https://localhost:8080/",
          "height": 206
        },
        "id": "YUdgKq4NrJP-",
        "outputId": "f919c830-859c-4c35-e85c-ec7474de4f38"
      },
      "execution_count": 40,
      "outputs": [
        {
          "output_type": "execute_result",
          "data": {
            "text/plain": [
              "            name language                id  \\\n",
              "0  Adeel Solangi   Sindhi  V59OF92YF627HFY0   \n",
              "1  Afzal Ghaffar   Sindhi  ENTOCR13RSCLZ6KU   \n",
              "2  Aamir Solangi   Sindhi  IAKPO3R4761JDRVG   \n",
              "3  Abla Dilmurat   Uyghur  5ZVOEPMJUI4MB4EN   \n",
              "4       Adil Eli   Uyghur  6VTI8X6LL0MMPJCC   \n",
              "\n",
              "                                                 bio  version  \n",
              "0  Donec lobortis eleifend condimentum. Cras dict...     6.10  \n",
              "1  Aliquam sollicitudin ante ligula, eget malesua...     1.88  \n",
              "2  Vestibulum pharetra libero et velit gravida eu...     7.27  \n",
              "3  Donec lobortis eleifend condimentum. Morbi ac ...     2.53  \n",
              "4  Vivamus id faucibus velit, id posuere leo. Mor...     6.49  "
            ],
            "text/html": [
              "\n",
              "  <div id=\"df-5a7ca8b0-e5f8-4db0-a287-e6c219f98f2a\" class=\"colab-df-container\">\n",
              "    <div>\n",
              "<style scoped>\n",
              "    .dataframe tbody tr th:only-of-type {\n",
              "        vertical-align: middle;\n",
              "    }\n",
              "\n",
              "    .dataframe tbody tr th {\n",
              "        vertical-align: top;\n",
              "    }\n",
              "\n",
              "    .dataframe thead th {\n",
              "        text-align: right;\n",
              "    }\n",
              "</style>\n",
              "<table border=\"1\" class=\"dataframe\">\n",
              "  <thead>\n",
              "    <tr style=\"text-align: right;\">\n",
              "      <th></th>\n",
              "      <th>name</th>\n",
              "      <th>language</th>\n",
              "      <th>id</th>\n",
              "      <th>bio</th>\n",
              "      <th>version</th>\n",
              "    </tr>\n",
              "  </thead>\n",
              "  <tbody>\n",
              "    <tr>\n",
              "      <th>0</th>\n",
              "      <td>Adeel Solangi</td>\n",
              "      <td>Sindhi</td>\n",
              "      <td>V59OF92YF627HFY0</td>\n",
              "      <td>Donec lobortis eleifend condimentum. Cras dict...</td>\n",
              "      <td>6.10</td>\n",
              "    </tr>\n",
              "    <tr>\n",
              "      <th>1</th>\n",
              "      <td>Afzal Ghaffar</td>\n",
              "      <td>Sindhi</td>\n",
              "      <td>ENTOCR13RSCLZ6KU</td>\n",
              "      <td>Aliquam sollicitudin ante ligula, eget malesua...</td>\n",
              "      <td>1.88</td>\n",
              "    </tr>\n",
              "    <tr>\n",
              "      <th>2</th>\n",
              "      <td>Aamir Solangi</td>\n",
              "      <td>Sindhi</td>\n",
              "      <td>IAKPO3R4761JDRVG</td>\n",
              "      <td>Vestibulum pharetra libero et velit gravida eu...</td>\n",
              "      <td>7.27</td>\n",
              "    </tr>\n",
              "    <tr>\n",
              "      <th>3</th>\n",
              "      <td>Abla Dilmurat</td>\n",
              "      <td>Uyghur</td>\n",
              "      <td>5ZVOEPMJUI4MB4EN</td>\n",
              "      <td>Donec lobortis eleifend condimentum. Morbi ac ...</td>\n",
              "      <td>2.53</td>\n",
              "    </tr>\n",
              "    <tr>\n",
              "      <th>4</th>\n",
              "      <td>Adil Eli</td>\n",
              "      <td>Uyghur</td>\n",
              "      <td>6VTI8X6LL0MMPJCC</td>\n",
              "      <td>Vivamus id faucibus velit, id posuere leo. Mor...</td>\n",
              "      <td>6.49</td>\n",
              "    </tr>\n",
              "  </tbody>\n",
              "</table>\n",
              "</div>\n",
              "    <div class=\"colab-df-buttons\">\n",
              "\n",
              "  <div class=\"colab-df-container\">\n",
              "    <button class=\"colab-df-convert\" onclick=\"convertToInteractive('df-5a7ca8b0-e5f8-4db0-a287-e6c219f98f2a')\"\n",
              "            title=\"Convert this dataframe to an interactive table.\"\n",
              "            style=\"display:none;\">\n",
              "\n",
              "  <svg xmlns=\"http://www.w3.org/2000/svg\" height=\"24px\" viewBox=\"0 -960 960 960\">\n",
              "    <path d=\"M120-120v-720h720v720H120Zm60-500h600v-160H180v160Zm220 220h160v-160H400v160Zm0 220h160v-160H400v160ZM180-400h160v-160H180v160Zm440 0h160v-160H620v160ZM180-180h160v-160H180v160Zm440 0h160v-160H620v160Z\"/>\n",
              "  </svg>\n",
              "    </button>\n",
              "\n",
              "  <style>\n",
              "    .colab-df-container {\n",
              "      display:flex;\n",
              "      gap: 12px;\n",
              "    }\n",
              "\n",
              "    .colab-df-convert {\n",
              "      background-color: #E8F0FE;\n",
              "      border: none;\n",
              "      border-radius: 50%;\n",
              "      cursor: pointer;\n",
              "      display: none;\n",
              "      fill: #1967D2;\n",
              "      height: 32px;\n",
              "      padding: 0 0 0 0;\n",
              "      width: 32px;\n",
              "    }\n",
              "\n",
              "    .colab-df-convert:hover {\n",
              "      background-color: #E2EBFA;\n",
              "      box-shadow: 0px 1px 2px rgba(60, 64, 67, 0.3), 0px 1px 3px 1px rgba(60, 64, 67, 0.15);\n",
              "      fill: #174EA6;\n",
              "    }\n",
              "\n",
              "    .colab-df-buttons div {\n",
              "      margin-bottom: 4px;\n",
              "    }\n",
              "\n",
              "    [theme=dark] .colab-df-convert {\n",
              "      background-color: #3B4455;\n",
              "      fill: #D2E3FC;\n",
              "    }\n",
              "\n",
              "    [theme=dark] .colab-df-convert:hover {\n",
              "      background-color: #434B5C;\n",
              "      box-shadow: 0px 1px 3px 1px rgba(0, 0, 0, 0.15);\n",
              "      filter: drop-shadow(0px 1px 2px rgba(0, 0, 0, 0.3));\n",
              "      fill: #FFFFFF;\n",
              "    }\n",
              "  </style>\n",
              "\n",
              "    <script>\n",
              "      const buttonEl =\n",
              "        document.querySelector('#df-5a7ca8b0-e5f8-4db0-a287-e6c219f98f2a button.colab-df-convert');\n",
              "      buttonEl.style.display =\n",
              "        google.colab.kernel.accessAllowed ? 'block' : 'none';\n",
              "\n",
              "      async function convertToInteractive(key) {\n",
              "        const element = document.querySelector('#df-5a7ca8b0-e5f8-4db0-a287-e6c219f98f2a');\n",
              "        const dataTable =\n",
              "          await google.colab.kernel.invokeFunction('convertToInteractive',\n",
              "                                                    [key], {});\n",
              "        if (!dataTable) return;\n",
              "\n",
              "        const docLinkHtml = 'Like what you see? Visit the ' +\n",
              "          '<a target=\"_blank\" href=https://colab.research.google.com/notebooks/data_table.ipynb>data table notebook</a>'\n",
              "          + ' to learn more about interactive tables.';\n",
              "        element.innerHTML = '';\n",
              "        dataTable['output_type'] = 'display_data';\n",
              "        await google.colab.output.renderOutput(dataTable, element);\n",
              "        const docLink = document.createElement('div');\n",
              "        docLink.innerHTML = docLinkHtml;\n",
              "        element.appendChild(docLink);\n",
              "      }\n",
              "    </script>\n",
              "  </div>\n",
              "\n",
              "\n",
              "<div id=\"df-5f750994-19d6-4730-933d-63b71bd07f3f\">\n",
              "  <button class=\"colab-df-quickchart\" onclick=\"quickchart('df-5f750994-19d6-4730-933d-63b71bd07f3f')\"\n",
              "            title=\"Suggest charts\"\n",
              "            style=\"display:none;\">\n",
              "\n",
              "<svg xmlns=\"http://www.w3.org/2000/svg\" height=\"24px\"viewBox=\"0 0 24 24\"\n",
              "     width=\"24px\">\n",
              "    <g>\n",
              "        <path d=\"M19 3H5c-1.1 0-2 .9-2 2v14c0 1.1.9 2 2 2h14c1.1 0 2-.9 2-2V5c0-1.1-.9-2-2-2zM9 17H7v-7h2v7zm4 0h-2V7h2v10zm4 0h-2v-4h2v4z\"/>\n",
              "    </g>\n",
              "</svg>\n",
              "  </button>\n",
              "\n",
              "<style>\n",
              "  .colab-df-quickchart {\n",
              "      --bg-color: #E8F0FE;\n",
              "      --fill-color: #1967D2;\n",
              "      --hover-bg-color: #E2EBFA;\n",
              "      --hover-fill-color: #174EA6;\n",
              "      --disabled-fill-color: #AAA;\n",
              "      --disabled-bg-color: #DDD;\n",
              "  }\n",
              "\n",
              "  [theme=dark] .colab-df-quickchart {\n",
              "      --bg-color: #3B4455;\n",
              "      --fill-color: #D2E3FC;\n",
              "      --hover-bg-color: #434B5C;\n",
              "      --hover-fill-color: #FFFFFF;\n",
              "      --disabled-bg-color: #3B4455;\n",
              "      --disabled-fill-color: #666;\n",
              "  }\n",
              "\n",
              "  .colab-df-quickchart {\n",
              "    background-color: var(--bg-color);\n",
              "    border: none;\n",
              "    border-radius: 50%;\n",
              "    cursor: pointer;\n",
              "    display: none;\n",
              "    fill: var(--fill-color);\n",
              "    height: 32px;\n",
              "    padding: 0;\n",
              "    width: 32px;\n",
              "  }\n",
              "\n",
              "  .colab-df-quickchart:hover {\n",
              "    background-color: var(--hover-bg-color);\n",
              "    box-shadow: 0 1px 2px rgba(60, 64, 67, 0.3), 0 1px 3px 1px rgba(60, 64, 67, 0.15);\n",
              "    fill: var(--button-hover-fill-color);\n",
              "  }\n",
              "\n",
              "  .colab-df-quickchart-complete:disabled,\n",
              "  .colab-df-quickchart-complete:disabled:hover {\n",
              "    background-color: var(--disabled-bg-color);\n",
              "    fill: var(--disabled-fill-color);\n",
              "    box-shadow: none;\n",
              "  }\n",
              "\n",
              "  .colab-df-spinner {\n",
              "    border: 2px solid var(--fill-color);\n",
              "    border-color: transparent;\n",
              "    border-bottom-color: var(--fill-color);\n",
              "    animation:\n",
              "      spin 1s steps(1) infinite;\n",
              "  }\n",
              "\n",
              "  @keyframes spin {\n",
              "    0% {\n",
              "      border-color: transparent;\n",
              "      border-bottom-color: var(--fill-color);\n",
              "      border-left-color: var(--fill-color);\n",
              "    }\n",
              "    20% {\n",
              "      border-color: transparent;\n",
              "      border-left-color: var(--fill-color);\n",
              "      border-top-color: var(--fill-color);\n",
              "    }\n",
              "    30% {\n",
              "      border-color: transparent;\n",
              "      border-left-color: var(--fill-color);\n",
              "      border-top-color: var(--fill-color);\n",
              "      border-right-color: var(--fill-color);\n",
              "    }\n",
              "    40% {\n",
              "      border-color: transparent;\n",
              "      border-right-color: var(--fill-color);\n",
              "      border-top-color: var(--fill-color);\n",
              "    }\n",
              "    60% {\n",
              "      border-color: transparent;\n",
              "      border-right-color: var(--fill-color);\n",
              "    }\n",
              "    80% {\n",
              "      border-color: transparent;\n",
              "      border-right-color: var(--fill-color);\n",
              "      border-bottom-color: var(--fill-color);\n",
              "    }\n",
              "    90% {\n",
              "      border-color: transparent;\n",
              "      border-bottom-color: var(--fill-color);\n",
              "    }\n",
              "  }\n",
              "</style>\n",
              "\n",
              "  <script>\n",
              "    async function quickchart(key) {\n",
              "      const quickchartButtonEl =\n",
              "        document.querySelector('#' + key + ' button');\n",
              "      quickchartButtonEl.disabled = true;  // To prevent multiple clicks.\n",
              "      quickchartButtonEl.classList.add('colab-df-spinner');\n",
              "      try {\n",
              "        const charts = await google.colab.kernel.invokeFunction(\n",
              "            'suggestCharts', [key], {});\n",
              "      } catch (error) {\n",
              "        console.error('Error during call to suggestCharts:', error);\n",
              "      }\n",
              "      quickchartButtonEl.classList.remove('colab-df-spinner');\n",
              "      quickchartButtonEl.classList.add('colab-df-quickchart-complete');\n",
              "    }\n",
              "    (() => {\n",
              "      let quickchartButtonEl =\n",
              "        document.querySelector('#df-5f750994-19d6-4730-933d-63b71bd07f3f button');\n",
              "      quickchartButtonEl.style.display =\n",
              "        google.colab.kernel.accessAllowed ? 'block' : 'none';\n",
              "    })();\n",
              "  </script>\n",
              "</div>\n",
              "    </div>\n",
              "  </div>\n"
            ]
          },
          "metadata": {},
          "execution_count": 40
        }
      ]
    },
    {
      "cell_type": "code",
      "source": [
        "try:\n",
        "    # Load the JSON without keyword arguments\n",
        "    df = pd.read_json('/content/records_orient_sample.json')\n",
        "\n",
        "     # most spoken language\n",
        "    num_of_language = df['language'].value_counts()\n",
        "    num_of_language.plot.bar(x=num_of_language.index,\n",
        "            y=\"language\")\n",
        "    plt.show()\n",
        "\n",
        "except ValueError:\n",
        "    print(\"pandas could not parse the JSON.\")"
      ],
      "metadata": {
        "colab": {
          "base_uri": "https://localhost:8080/",
          "height": 543
        },
        "id": "n3wEIxd_MT4I",
        "outputId": "81ba785b-a0bb-44f8-fd9b-745b1c445084"
      },
      "execution_count": 44,
      "outputs": [
        {
          "output_type": "display_data",
          "data": {
            "text/plain": [
              "<Figure size 640x480 with 1 Axes>"
            ],
            "image/png": "[encoded data removed]"
          },
          "metadata": {}
        }
      ]
    },
    {
      "cell_type": "markdown",
      "source": [
        "##### Data Orientation"
      ],
      "metadata": {
        "id": "M6kOR4cIlR3N"
      }
    },
    {
      "cell_type": "code",
      "source": [
        "# Try different json files and orient parameter\n",
        "try:\n",
        "    # Load the JSON with orient specified\n",
        "    df = pd.read_json(\"/content/split_orient_sample.json\",\n",
        "                      orient='split')\n",
        "\n",
        "     # most spoken language\n",
        "    num_of_language = df['language'].value_counts()\n",
        "    num_of_language.plot.bar(x=num_of_language.index,\n",
        "            y=\"language\")\n",
        "    plt.show()\n",
        "\n",
        "except ValueError:\n",
        "    print(\"pandas could not parse the JSON.\")"
      ],
      "metadata": {
        "colab": {
          "base_uri": "https://localhost:8080/",
          "height": 543
        },
        "id": "RAyDOWCtMtxQ",
        "outputId": "0d396dc9-8d69-46e0-9e22-e7c73fce4c5c"
      },
      "execution_count": 46,
      "outputs": [
        {
          "output_type": "display_data",
          "data": {
            "text/plain": [
              "<Figure size 640x480 with 1 Axes>"
            ],
            "image/png": "[encoded data removed]"
          },
          "metadata": {}
        }
      ]
    },
    {
      "cell_type": "markdown",
      "source": [
        "### Introduction to APIs\n",
        "\n",
        "**Application Programming Interfaces**\n",
        "- Deftnes how a application communicates with other programs\n",
        "- Way to get data from an application without knowing database details\n"
      ],
      "metadata": {
        "id": "T9nZvc82NGDa"
      }
    },
    {
      "cell_type": "code",
      "source": [
        "import requests\n",
        "import pandas as pd"
      ],
      "metadata": {
        "id": "-ZU7UMR5NdQI"
      },
      "execution_count": 27,
      "outputs": []
    },
    {
      "cell_type": "code",
      "source": [
        "api_url = 'https://api.yelp.com/v3/businesses/search'\n",
        "\n",
        "params = {'term': 'cafe', 'location': 'NYC'}\n",
        "\n",
        "api_key = 'get key from yelp'\n",
        "\n",
        "headers = {'Authorization':'Bearer {}'.format(api_key)}\n"
      ],
      "metadata": {
        "colab": {
          "base_uri": "https://localhost:8080/"
        },
        "id": "uGrU1O6BNHHG",
        "outputId": "db935256-a997-4ce1-aa78-70e615625555"
      },
      "execution_count": 28,
      "outputs": [
        {
          "output_type": "execute_result",
          "data": {
            "text/plain": [
              "<Response [401]>"
            ]
          },
          "metadata": {},
          "execution_count": 28
        }
      ]
    },
    {
      "cell_type": "markdown",
      "source": [
        "##### Making a Request andd Parsing a Response in JSON format"
      ],
      "metadata": {
        "id": "LKBQ6n_vmDAK"
      }
    },
    {
      "cell_type": "code",
      "source": [
        "api_url = \"https://api.yelp.com/v3/businesses/search\"\n",
        "\n",
        "# Get data about NYC cafes from the Yelp API\n",
        "response = requests.get(api_url,\n",
        "                headers=headers,\n",
        "                params=params)\n",
        "print(params)\n",
        "# Extract JSON data from the response\n",
        "data = response.json()\n",
        "\n",
        "# Load data to a dataframe\n",
        "cafes = pd.DataFrame(data['businesses'])\n",
        "\n",
        "# View the data's dtypes\n",
        "print(cafes.dtypes)"
      ],
      "metadata": {
        "colab": {
          "base_uri": "https://localhost:8080/"
        },
        "id": "Pv33MsZBOy27",
        "outputId": "a3246502-68c8-408f-807f-6ee16095eb57"
      },
      "execution_count": 29,
      "outputs": [
        {
          "output_type": "stream",
          "name": "stdout",
          "text": [
            "{'term': 'cafe', 'location': 'NYC'}\n",
            "error    object\n",
            "dtype: object\n"
          ]
        }
      ]
    },
    {
      "cell_type": "code",
      "source": [
        "# Create dictionary to query API for cafes in NYC\n",
        "parameters = {'term':'cafe',\n",
        "          \t  'location':'NYC'}\n",
        "\n",
        "# Query the Yelp API with headers and params set\n",
        "response = requests.get(api_url,\n",
        "                headers=headers,\n",
        "                params=parameters)\n",
        "\n",
        "# Extract JSON data from response\n",
        "data = response.json()\n",
        "\n",
        "# Load \"businesses\" values to a dataframe and print head\n",
        "cafes = pd.DataFrame(data['businesses'])\n",
        "print(cafes.head())"
      ],
      "metadata": {
        "colab": {
          "base_uri": "https://localhost:8080/"
        },
        "id": "Gv87FzT8PBiS",
        "outputId": "b1a0afa0-c0d8-454c-993e-09263341b835"
      },
      "execution_count": 31,
      "outputs": [
        {
          "output_type": "execute_result",
          "data": {
            "text/plain": [
              "{'error': {'code': 'UNAUTHORIZED_ACCESS_TOKEN',\n",
              "  'description': 'The access token provided is not currently able to query this endpoint.'}}"
            ]
          },
          "metadata": {},
          "execution_count": 31
        }
      ]
    },
    {
      "cell_type": "markdown",
      "source": [
        "### Working with nested JSONs"
      ],
      "metadata": {
        "id": "0wSQeuFNRc24"
      }
    },
    {
      "cell_type": "markdown",
      "source": [
        "- pandas.io.json is a submodule for reading and writing JSON\n",
        "-json_normalize is used to flatten nested JSON"
      ],
      "metadata": {
        "id": "q7oeTPX-SMg4"
      }
    },
    {
      "cell_type": "code",
      "source": [
        "# pandas.io.json is a submodule for reading and writing JSON\n",
        "# json_normalize is used to flatten nested JSON, it takes a dictionary/list of dictionaries and return a flattened data frame"
      ],
      "metadata": {
        "id": "04QsMS3IPFOx"
      },
      "execution_count": 47,
      "outputs": []
    },
    {
      "cell_type": "code",
      "source": [
        "from pandas.io.json import json_normalize\n",
        "import requests\n",
        "import pandas as pd"
      ],
      "metadata": {
        "id": "e44Xm7E0SGmJ"
      },
      "execution_count": 48,
      "outputs": []
    },
    {
      "cell_type": "code",
      "source": [
        "data = pd.read_json('sample_nested.json')\n",
        "data"
      ],
      "metadata": {
        "colab": {
          "base_uri": "https://localhost:8080/",
          "height": 112
        },
        "id": "msWX-a6zs1cY",
        "outputId": "5d1ec7b1-b173-47f9-bafb-e00a47bf2b01"
      },
      "execution_count": 49,
      "outputs": [
        {
          "output_type": "execute_result",
          "data": {
            "text/plain": [
              "                                                    coffee  \\\n",
              "region   [{'id': 1, 'name': 'John Doe'}, {'id': 2, 'nam...   \n",
              "country                       {'id': 2, 'company': 'ACME'}   \n",
              "\n",
              "                                                   brewing  \n",
              "region   [{'id': 1, 'name': 'John Doe'}, {'id': 2, 'nam...  \n",
              "country                       {'id': 2, 'company': 'ACME'}  "
            ],
            "text/html": [
              "\n",
              "  <div id=\"df-5d765ef8-3974-49b9-9638-15e15542696f\" class=\"colab-df-container\">\n",
              "    <div>\n",
              "<style scoped>\n",
              "    .dataframe tbody tr th:only-of-type {\n",
              "        vertical-align: middle;\n",
              "    }\n",
              "\n",
              "    .dataframe tbody tr th {\n",
              "        vertical-align: top;\n",
              "    }\n",
              "\n",
              "    .dataframe thead th {\n",
              "        text-align: right;\n",
              "    }\n",
              "</style>\n",
              "<table border=\"1\" class=\"dataframe\">\n",
              "  <thead>\n",
              "    <tr style=\"text-align: right;\">\n",
              "      <th></th>\n",
              "      <th>coffee</th>\n",
              "      <th>brewing</th>\n",
              "    </tr>\n",
              "  </thead>\n",
              "  <tbody>\n",
              "    <tr>\n",
              "      <th>region</th>\n",
              "      <td>[{'id': 1, 'name': 'John Doe'}, {'id': 2, 'nam...</td>\n",
              "      <td>[{'id': 1, 'name': 'John Doe'}, {'id': 2, 'nam...</td>\n",
              "    </tr>\n",
              "    <tr>\n",
              "      <th>country</th>\n",
              "      <td>{'id': 2, 'company': 'ACME'}</td>\n",
              "      <td>{'id': 2, 'company': 'ACME'}</td>\n",
              "    </tr>\n",
              "  </tbody>\n",
              "</table>\n",
              "</div>\n",
              "    <div class=\"colab-df-buttons\">\n",
              "\n",
              "  <div class=\"colab-df-container\">\n",
              "    <button class=\"colab-df-convert\" onclick=\"convertToInteractive('df-5d765ef8-3974-49b9-9638-15e15542696f')\"\n",
              "            title=\"Convert this dataframe to an interactive table.\"\n",
              "            style=\"display:none;\">\n",
              "\n",
              "  <svg xmlns=\"http://www.w3.org/2000/svg\" height=\"24px\" viewBox=\"0 -960 960 960\">\n",
              "    <path d=\"M120-120v-720h720v720H120Zm60-500h600v-160H180v160Zm220 220h160v-160H400v160Zm0 220h160v-160H400v160ZM180-400h160v-160H180v160Zm440 0h160v-160H620v160ZM180-180h160v-160H180v160Zm440 0h160v-160H620v160Z\"/>\n",
              "  </svg>\n",
              "    </button>\n",
              "\n",
              "  <style>\n",
              "    .colab-df-container {\n",
              "      display:flex;\n",
              "      gap: 12px;\n",
              "    }\n",
              "\n",
              "    .colab-df-convert {\n",
              "      background-color: #E8F0FE;\n",
              "      border: none;\n",
              "      border-radius: 50%;\n",
              "      cursor: pointer;\n",
              "      display: none;\n",
              "      fill: #1967D2;\n",
              "      height: 32px;\n",
              "      padding: 0 0 0 0;\n",
              "      width: 32px;\n",
              "    }\n",
              "\n",
              "    .colab-df-convert:hover {\n",
              "      background-color: #E2EBFA;\n",
              "      box-shadow: 0px 1px 2px rgba(60, 64, 67, 0.3), 0px 1px 3px 1px rgba(60, 64, 67, 0.15);\n",
              "      fill: #174EA6;\n",
              "    }\n",
              "\n",
              "    .colab-df-buttons div {\n",
              "      margin-bottom: 4px;\n",
              "    }\n",
              "\n",
              "    [theme=dark] .colab-df-convert {\n",
              "      background-color: #3B4455;\n",
              "      fill: #D2E3FC;\n",
              "    }\n",
              "\n",
              "    [theme=dark] .colab-df-convert:hover {\n",
              "      background-color: #434B5C;\n",
              "      box-shadow: 0px 1px 3px 1px rgba(0, 0, 0, 0.15);\n",
              "      filter: drop-shadow(0px 1px 2px rgba(0, 0, 0, 0.3));\n",
              "      fill: #FFFFFF;\n",
              "    }\n",
              "  </style>\n",
              "\n",
              "    <script>\n",
              "      const buttonEl =\n",
              "        document.querySelector('#df-5d765ef8-3974-49b9-9638-15e15542696f button.colab-df-convert');\n",
              "      buttonEl.style.display =\n",
              "        google.colab.kernel.accessAllowed ? 'block' : 'none';\n",
              "\n",
              "      async function convertToInteractive(key) {\n",
              "        const element = document.querySelector('#df-5d765ef8-3974-49b9-9638-15e15542696f');\n",
              "        const dataTable =\n",
              "          await google.colab.kernel.invokeFunction('convertToInteractive',\n",
              "                                                    [key], {});\n",
              "        if (!dataTable) return;\n",
              "\n",
              "        const docLinkHtml = 'Like what you see? Visit the ' +\n",
              "          '<a target=\"_blank\" href=https://colab.research.google.com/notebooks/data_table.ipynb>data table notebook</a>'\n",
              "          + ' to learn more about interactive tables.';\n",
              "        element.innerHTML = '';\n",
              "        dataTable['output_type'] = 'display_data';\n",
              "        await google.colab.output.renderOutput(dataTable, element);\n",
              "        const docLink = document.createElement('div');\n",
              "        docLink.innerHTML = docLinkHtml;\n",
              "        element.appendChild(docLink);\n",
              "      }\n",
              "    </script>\n",
              "  </div>\n",
              "\n",
              "\n",
              "<div id=\"df-39461699-a68f-4e74-abc7-7cd78841c521\">\n",
              "  <button class=\"colab-df-quickchart\" onclick=\"quickchart('df-39461699-a68f-4e74-abc7-7cd78841c521')\"\n",
              "            title=\"Suggest charts\"\n",
              "            style=\"display:none;\">\n",
              "\n",
              "<svg xmlns=\"http://www.w3.org/2000/svg\" height=\"24px\"viewBox=\"0 0 24 24\"\n",
              "     width=\"24px\">\n",
              "    <g>\n",
              "        <path d=\"M19 3H5c-1.1 0-2 .9-2 2v14c0 1.1.9 2 2 2h14c1.1 0 2-.9 2-2V5c0-1.1-.9-2-2-2zM9 17H7v-7h2v7zm4 0h-2V7h2v10zm4 0h-2v-4h2v4z\"/>\n",
              "    </g>\n",
              "</svg>\n",
              "  </button>\n",
              "\n",
              "<style>\n",
              "  .colab-df-quickchart {\n",
              "      --bg-color: #E8F0FE;\n",
              "      --fill-color: #1967D2;\n",
              "      --hover-bg-color: #E2EBFA;\n",
              "      --hover-fill-color: #174EA6;\n",
              "      --disabled-fill-color: #AAA;\n",
              "      --disabled-bg-color: #DDD;\n",
              "  }\n",
              "\n",
              "  [theme=dark] .colab-df-quickchart {\n",
              "      --bg-color: #3B4455;\n",
              "      --fill-color: #D2E3FC;\n",
              "      --hover-bg-color: #434B5C;\n",
              "      --hover-fill-color: #FFFFFF;\n",
              "      --disabled-bg-color: #3B4455;\n",
              "      --disabled-fill-color: #666;\n",
              "  }\n",
              "\n",
              "  .colab-df-quickchart {\n",
              "    background-color: var(--bg-color);\n",
              "    border: none;\n",
              "    border-radius: 50%;\n",
              "    cursor: pointer;\n",
              "    display: none;\n",
              "    fill: var(--fill-color);\n",
              "    height: 32px;\n",
              "    padding: 0;\n",
              "    width: 32px;\n",
              "  }\n",
              "\n",
              "  .colab-df-quickchart:hover {\n",
              "    background-color: var(--hover-bg-color);\n",
              "    box-shadow: 0 1px 2px rgba(60, 64, 67, 0.3), 0 1px 3px 1px rgba(60, 64, 67, 0.15);\n",
              "    fill: var(--button-hover-fill-color);\n",
              "  }\n",
              "\n",
              "  .colab-df-quickchart-complete:disabled,\n",
              "  .colab-df-quickchart-complete:disabled:hover {\n",
              "    background-color: var(--disabled-bg-color);\n",
              "    fill: var(--disabled-fill-color);\n",
              "    box-shadow: none;\n",
              "  }\n",
              "\n",
              "  .colab-df-spinner {\n",
              "    border: 2px solid var(--fill-color);\n",
              "    border-color: transparent;\n",
              "    border-bottom-color: var(--fill-color);\n",
              "    animation:\n",
              "      spin 1s steps(1) infinite;\n",
              "  }\n",
              "\n",
              "  @keyframes spin {\n",
              "    0% {\n",
              "      border-color: transparent;\n",
              "      border-bottom-color: var(--fill-color);\n",
              "      border-left-color: var(--fill-color);\n",
              "    }\n",
              "    20% {\n",
              "      border-color: transparent;\n",
              "      border-left-color: var(--fill-color);\n",
              "      border-top-color: var(--fill-color);\n",
              "    }\n",
              "    30% {\n",
              "      border-color: transparent;\n",
              "      border-left-color: var(--fill-color);\n",
              "      border-top-color: var(--fill-color);\n",
              "      border-right-color: var(--fill-color);\n",
              "    }\n",
              "    40% {\n",
              "      border-color: transparent;\n",
              "      border-right-color: var(--fill-color);\n",
              "      border-top-color: var(--fill-color);\n",
              "    }\n",
              "    60% {\n",
              "      border-color: transparent;\n",
              "      border-right-color: var(--fill-color);\n",
              "    }\n",
              "    80% {\n",
              "      border-color: transparent;\n",
              "      border-right-color: var(--fill-color);\n",
              "      border-bottom-color: var(--fill-color);\n",
              "    }\n",
              "    90% {\n",
              "      border-color: transparent;\n",
              "      border-bottom-color: var(--fill-color);\n",
              "    }\n",
              "  }\n",
              "</style>\n",
              "\n",
              "  <script>\n",
              "    async function quickchart(key) {\n",
              "      const quickchartButtonEl =\n",
              "        document.querySelector('#' + key + ' button');\n",
              "      quickchartButtonEl.disabled = true;  // To prevent multiple clicks.\n",
              "      quickchartButtonEl.classList.add('colab-df-spinner');\n",
              "      try {\n",
              "        const charts = await google.colab.kernel.invokeFunction(\n",
              "            'suggestCharts', [key], {});\n",
              "      } catch (error) {\n",
              "        console.error('Error during call to suggestCharts:', error);\n",
              "      }\n",
              "      quickchartButtonEl.classList.remove('colab-df-spinner');\n",
              "      quickchartButtonEl.classList.add('colab-df-quickchart-complete');\n",
              "    }\n",
              "    (() => {\n",
              "      let quickchartButtonEl =\n",
              "        document.querySelector('#df-39461699-a68f-4e74-abc7-7cd78841c521 button');\n",
              "      quickchartButtonEl.style.display =\n",
              "        google.colab.kernel.accessAllowed ? 'block' : 'none';\n",
              "    })();\n",
              "  </script>\n",
              "</div>\n",
              "    </div>\n",
              "  </div>\n"
            ]
          },
          "metadata": {},
          "execution_count": 49
        }
      ]
    },
    {
      "cell_type": "markdown",
      "source": [
        "##### Loading Nested JSON Data"
      ],
      "metadata": {
        "id": "U3UgAOXvm5QN"
      }
    },
    {
      "cell_type": "code",
      "source": [
        "data = [\n",
        "    {\n",
        "        \"state\": \"Florida\",\n",
        "        \"shortname\": \"FL\",\n",
        "        \"info\": {\"governor\": \"Rick Scott\"},\n",
        "        \"counties\": [\n",
        "            {\"name\": \"Dade\", \"population\": 12345},\n",
        "            {\"name\": \"Broward\", \"population\": 40000},\n",
        "            {\"name\": \"Palm Beach\", \"population\": 60000},\n",
        "        ],\n",
        "    },\n",
        "    {\n",
        "        \"state\": \"Ohio\",\n",
        "        \"shortname\": \"OH\",\n",
        "        \"info\": {\"governor\": \"John Kasich\"},\n",
        "        \"counties\": [\n",
        "            {\"name\": \"Summit\", \"population\": 1234},\n",
        "            {\"name\": \"Cuyahoga\", \"population\": 1337},\n",
        "        ],\n",
        "    },\n",
        "]\n",
        "result = pd.json_normalize(\n",
        "    data, \"counties\", [\"state\", \"shortname\", [\"info\", \"governor\"]]\n",
        ")\n",
        "\n",
        "result"
      ],
      "metadata": {
        "colab": {
          "base_uri": "https://localhost:8080/",
          "height": 206
        },
        "id": "3cPWuPBx2mqg",
        "outputId": "86f52b59-2444-42b1-9691-6e3fec2cdb9d"
      },
      "execution_count": 76,
      "outputs": [
        {
          "output_type": "execute_result",
          "data": {
            "text/plain": [
              "         name  population    state shortname info.governor\n",
              "0        Dade       12345  Florida        FL    Rick Scott\n",
              "1     Broward       40000  Florida        FL    Rick Scott\n",
              "2  Palm Beach       60000  Florida        FL    Rick Scott\n",
              "3      Summit        1234     Ohio        OH   John Kasich\n",
              "4    Cuyahoga        1337     Ohio        OH   John Kasich"
            ],
            "text/html": [
              "\n",
              "  <div id=\"df-c5f758be-4aad-4904-affa-476e24906aa9\" class=\"colab-df-container\">\n",
              "    <div>\n",
              "<style scoped>\n",
              "    .dataframe tbody tr th:only-of-type {\n",
              "        vertical-align: middle;\n",
              "    }\n",
              "\n",
              "    .dataframe tbody tr th {\n",
              "        vertical-align: top;\n",
              "    }\n",
              "\n",
              "    .dataframe thead th {\n",
              "        text-align: right;\n",
              "    }\n",
              "</style>\n",
              "<table border=\"1\" class=\"dataframe\">\n",
              "  <thead>\n",
              "    <tr style=\"text-align: right;\">\n",
              "      <th></th>\n",
              "      <th>name</th>\n",
              "      <th>population</th>\n",
              "      <th>state</th>\n",
              "      <th>shortname</th>\n",
              "      <th>info.governor</th>\n",
              "    </tr>\n",
              "  </thead>\n",
              "  <tbody>\n",
              "    <tr>\n",
              "      <th>0</th>\n",
              "      <td>Dade</td>\n",
              "      <td>12345</td>\n",
              "      <td>Florida</td>\n",
              "      <td>FL</td>\n",
              "      <td>Rick Scott</td>\n",
              "    </tr>\n",
              "    <tr>\n",
              "      <th>1</th>\n",
              "      <td>Broward</td>\n",
              "      <td>40000</td>\n",
              "      <td>Florida</td>\n",
              "      <td>FL</td>\n",
              "      <td>Rick Scott</td>\n",
              "    </tr>\n",
              "    <tr>\n",
              "      <th>2</th>\n",
              "      <td>Palm Beach</td>\n",
              "      <td>60000</td>\n",
              "      <td>Florida</td>\n",
              "      <td>FL</td>\n",
              "      <td>Rick Scott</td>\n",
              "    </tr>\n",
              "    <tr>\n",
              "      <th>3</th>\n",
              "      <td>Summit</td>\n",
              "      <td>1234</td>\n",
              "      <td>Ohio</td>\n",
              "      <td>OH</td>\n",
              "      <td>John Kasich</td>\n",
              "    </tr>\n",
              "    <tr>\n",
              "      <th>4</th>\n",
              "      <td>Cuyahoga</td>\n",
              "      <td>1337</td>\n",
              "      <td>Ohio</td>\n",
              "      <td>OH</td>\n",
              "      <td>John Kasich</td>\n",
              "    </tr>\n",
              "  </tbody>\n",
              "</table>\n",
              "</div>\n",
              "    <div class=\"colab-df-buttons\">\n",
              "\n",
              "  <div class=\"colab-df-container\">\n",
              "    <button class=\"colab-df-convert\" onclick=\"convertToInteractive('df-c5f758be-4aad-4904-affa-476e24906aa9')\"\n",
              "            title=\"Convert this dataframe to an interactive table.\"\n",
              "            style=\"display:none;\">\n",
              "\n",
              "  <svg xmlns=\"http://www.w3.org/2000/svg\" height=\"24px\" viewBox=\"0 -960 960 960\">\n",
              "    <path d=\"M120-120v-720h720v720H120Zm60-500h600v-160H180v160Zm220 220h160v-160H400v160Zm0 220h160v-160H400v160ZM180-400h160v-160H180v160Zm440 0h160v-160H620v160ZM180-180h160v-160H180v160Zm440 0h160v-160H620v160Z\"/>\n",
              "  </svg>\n",
              "    </button>\n",
              "\n",
              "  <style>\n",
              "    .colab-df-container {\n",
              "      display:flex;\n",
              "      gap: 12px;\n",
              "    }\n",
              "\n",
              "    .colab-df-convert {\n",
              "      background-color: #E8F0FE;\n",
              "      border: none;\n",
              "      border-radius: 50%;\n",
              "      cursor: pointer;\n",
              "      display: none;\n",
              "      fill: #1967D2;\n",
              "      height: 32px;\n",
              "      padding: 0 0 0 0;\n",
              "      width: 32px;\n",
              "    }\n",
              "\n",
              "    .colab-df-convert:hover {\n",
              "      background-color: #E2EBFA;\n",
              "      box-shadow: 0px 1px 2px rgba(60, 64, 67, 0.3), 0px 1px 3px 1px rgba(60, 64, 67, 0.15);\n",
              "      fill: #174EA6;\n",
              "    }\n",
              "\n",
              "    .colab-df-buttons div {\n",
              "      margin-bottom: 4px;\n",
              "    }\n",
              "\n",
              "    [theme=dark] .colab-df-convert {\n",
              "      background-color: #3B4455;\n",
              "      fill: #D2E3FC;\n",
              "    }\n",
              "\n",
              "    [theme=dark] .colab-df-convert:hover {\n",
              "      background-color: #434B5C;\n",
              "      box-shadow: 0px 1px 3px 1px rgba(0, 0, 0, 0.15);\n",
              "      filter: drop-shadow(0px 1px 2px rgba(0, 0, 0, 0.3));\n",
              "      fill: #FFFFFF;\n",
              "    }\n",
              "  </style>\n",
              "\n",
              "    <script>\n",
              "      const buttonEl =\n",
              "        document.querySelector('#df-c5f758be-4aad-4904-affa-476e24906aa9 button.colab-df-convert');\n",
              "      buttonEl.style.display =\n",
              "        google.colab.kernel.accessAllowed ? 'block' : 'none';\n",
              "\n",
              "      async function convertToInteractive(key) {\n",
              "        const element = document.querySelector('#df-c5f758be-4aad-4904-affa-476e24906aa9');\n",
              "        const dataTable =\n",
              "          await google.colab.kernel.invokeFunction('convertToInteractive',\n",
              "                                                    [key], {});\n",
              "        if (!dataTable) return;\n",
              "\n",
              "        const docLinkHtml = 'Like what you see? Visit the ' +\n",
              "          '<a target=\"_blank\" href=https://colab.research.google.com/notebooks/data_table.ipynb>data table notebook</a>'\n",
              "          + ' to learn more about interactive tables.';\n",
              "        element.innerHTML = '';\n",
              "        dataTable['output_type'] = 'display_data';\n",
              "        await google.colab.output.renderOutput(dataTable, element);\n",
              "        const docLink = document.createElement('div');\n",
              "        docLink.innerHTML = docLinkHtml;\n",
              "        element.appendChild(docLink);\n",
              "      }\n",
              "    </script>\n",
              "  </div>\n",
              "\n",
              "\n",
              "<div id=\"df-04596ad0-cb00-4e53-ad51-c64800762435\">\n",
              "  <button class=\"colab-df-quickchart\" onclick=\"quickchart('df-04596ad0-cb00-4e53-ad51-c64800762435')\"\n",
              "            title=\"Suggest charts\"\n",
              "            style=\"display:none;\">\n",
              "\n",
              "<svg xmlns=\"http://www.w3.org/2000/svg\" height=\"24px\"viewBox=\"0 0 24 24\"\n",
              "     width=\"24px\">\n",
              "    <g>\n",
              "        <path d=\"M19 3H5c-1.1 0-2 .9-2 2v14c0 1.1.9 2 2 2h14c1.1 0 2-.9 2-2V5c0-1.1-.9-2-2-2zM9 17H7v-7h2v7zm4 0h-2V7h2v10zm4 0h-2v-4h2v4z\"/>\n",
              "    </g>\n",
              "</svg>\n",
              "  </button>\n",
              "\n",
              "<style>\n",
              "  .colab-df-quickchart {\n",
              "      --bg-color: #E8F0FE;\n",
              "      --fill-color: #1967D2;\n",
              "      --hover-bg-color: #E2EBFA;\n",
              "      --hover-fill-color: #174EA6;\n",
              "      --disabled-fill-color: #AAA;\n",
              "      --disabled-bg-color: #DDD;\n",
              "  }\n",
              "\n",
              "  [theme=dark] .colab-df-quickchart {\n",
              "      --bg-color: #3B4455;\n",
              "      --fill-color: #D2E3FC;\n",
              "      --hover-bg-color: #434B5C;\n",
              "      --hover-fill-color: #FFFFFF;\n",
              "      --disabled-bg-color: #3B4455;\n",
              "      --disabled-fill-color: #666;\n",
              "  }\n",
              "\n",
              "  .colab-df-quickchart {\n",
              "    background-color: var(--bg-color);\n",
              "    border: none;\n",
              "    border-radius: 50%;\n",
              "    cursor: pointer;\n",
              "    display: none;\n",
              "    fill: var(--fill-color);\n",
              "    height: 32px;\n",
              "    padding: 0;\n",
              "    width: 32px;\n",
              "  }\n",
              "\n",
              "  .colab-df-quickchart:hover {\n",
              "    background-color: var(--hover-bg-color);\n",
              "    box-shadow: 0 1px 2px rgba(60, 64, 67, 0.3), 0 1px 3px 1px rgba(60, 64, 67, 0.15);\n",
              "    fill: var(--button-hover-fill-color);\n",
              "  }\n",
              "\n",
              "  .colab-df-quickchart-complete:disabled,\n",
              "  .colab-df-quickchart-complete:disabled:hover {\n",
              "    background-color: var(--disabled-bg-color);\n",
              "    fill: var(--disabled-fill-color);\n",
              "    box-shadow: none;\n",
              "  }\n",
              "\n",
              "  .colab-df-spinner {\n",
              "    border: 2px solid var(--fill-color);\n",
              "    border-color: transparent;\n",
              "    border-bottom-color: var(--fill-color);\n",
              "    animation:\n",
              "      spin 1s steps(1) infinite;\n",
              "  }\n",
              "\n",
              "  @keyframes spin {\n",
              "    0% {\n",
              "      border-color: transparent;\n",
              "      border-bottom-color: var(--fill-color);\n",
              "      border-left-color: var(--fill-color);\n",
              "    }\n",
              "    20% {\n",
              "      border-color: transparent;\n",
              "      border-left-color: var(--fill-color);\n",
              "      border-top-color: var(--fill-color);\n",
              "    }\n",
              "    30% {\n",
              "      border-color: transparent;\n",
              "      border-left-color: var(--fill-color);\n",
              "      border-top-color: var(--fill-color);\n",
              "      border-right-color: var(--fill-color);\n",
              "    }\n",
              "    40% {\n",
              "      border-color: transparent;\n",
              "      border-right-color: var(--fill-color);\n",
              "      border-top-color: var(--fill-color);\n",
              "    }\n",
              "    60% {\n",
              "      border-color: transparent;\n",
              "      border-right-color: var(--fill-color);\n",
              "    }\n",
              "    80% {\n",
              "      border-color: transparent;\n",
              "      border-right-color: var(--fill-color);\n",
              "      border-bottom-color: var(--fill-color);\n",
              "    }\n",
              "    90% {\n",
              "      border-color: transparent;\n",
              "      border-bottom-color: var(--fill-color);\n",
              "    }\n",
              "  }\n",
              "</style>\n",
              "\n",
              "  <script>\n",
              "    async function quickchart(key) {\n",
              "      const quickchartButtonEl =\n",
              "        document.querySelector('#' + key + ' button');\n",
              "      quickchartButtonEl.disabled = true;  // To prevent multiple clicks.\n",
              "      quickchartButtonEl.classList.add('colab-df-spinner');\n",
              "      try {\n",
              "        const charts = await google.colab.kernel.invokeFunction(\n",
              "            'suggestCharts', [key], {});\n",
              "      } catch (error) {\n",
              "        console.error('Error during call to suggestCharts:', error);\n",
              "      }\n",
              "      quickchartButtonEl.classList.remove('colab-df-spinner');\n",
              "      quickchartButtonEl.classList.add('colab-df-quickchart-complete');\n",
              "    }\n",
              "    (() => {\n",
              "      let quickchartButtonEl =\n",
              "        document.querySelector('#df-04596ad0-cb00-4e53-ad51-c64800762435 button');\n",
              "      quickchartButtonEl.style.display =\n",
              "        google.colab.kernel.accessAllowed ? 'block' : 'none';\n",
              "    })();\n",
              "  </script>\n",
              "</div>\n",
              "    </div>\n",
              "  </div>\n"
            ]
          },
          "metadata": {},
          "execution_count": 76
        }
      ]
    },
    {
      "cell_type": "markdown",
      "source": [
        "##### Loading Complex Nested JSON"
      ],
      "metadata": {
        "id": "zGfM3F7l9-QD"
      }
    },
    {
      "cell_type": "code",
      "source": [
        "# Load json_normalize()\n",
        "from pandas.io.json import json_normalize\n",
        "import json\n",
        "\n",
        "# Isolate the JSON data from the API response\n",
        "with open('sample_nested.json') as f:\n",
        "    data = json.load(f)\n",
        "\n",
        "# Flatten JSON data into a dataframe, replace separator\n",
        "data = json_normalize(data, sep='_')\n",
        "\n",
        "# View data\n",
        "data"
      ],
      "metadata": {
        "colab": {
          "base_uri": "https://localhost:8080/",
          "height": 115
        },
        "id": "YmPkU-xKtLw3",
        "outputId": "739387c3-8763-44a9-d392-d3a54d8edbc1"
      },
      "execution_count": 57,
      "outputs": [
        {
          "output_type": "stream",
          "name": "stderr",
          "text": [
            "<ipython-input-57-f1e54a517795>:8: FutureWarning: pandas.io.json.json_normalize is deprecated, use pandas.json_normalize instead.\n",
            "  data = json_normalize(data, sep='_')\n"
          ]
        },
        {
          "output_type": "execute_result",
          "data": {
            "text/plain": [
              "                                       coffee_region  coffee_country_id  \\\n",
              "0  [{'id': 1, 'name': 'John Doe'}, {'id': 2, 'nam...                  2   \n",
              "\n",
              "  coffee_country_company                                     brewing_region  \\\n",
              "0                   ACME  [{'id': 1, 'name': 'John Doe'}, {'id': 2, 'nam...   \n",
              "\n",
              "   brewing_country_id brewing_country_company  \n",
              "0                   2                    ACME  "
            ],
            "text/html": [
              "\n",
              "  <div id=\"df-cee2dbc7-8e0b-441c-8c83-c5c9f5c9e6d7\" class=\"colab-df-container\">\n",
              "    <div>\n",
              "<style scoped>\n",
              "    .dataframe tbody tr th:only-of-type {\n",
              "        vertical-align: middle;\n",
              "    }\n",
              "\n",
              "    .dataframe tbody tr th {\n",
              "        vertical-align: top;\n",
              "    }\n",
              "\n",
              "    .dataframe thead th {\n",
              "        text-align: right;\n",
              "    }\n",
              "</style>\n",
              "<table border=\"1\" class=\"dataframe\">\n",
              "  <thead>\n",
              "    <tr style=\"text-align: right;\">\n",
              "      <th></th>\n",
              "      <th>coffee_region</th>\n",
              "      <th>coffee_country_id</th>\n",
              "      <th>coffee_country_company</th>\n",
              "      <th>brewing_region</th>\n",
              "      <th>brewing_country_id</th>\n",
              "      <th>brewing_country_company</th>\n",
              "    </tr>\n",
              "  </thead>\n",
              "  <tbody>\n",
              "    <tr>\n",
              "      <th>0</th>\n",
              "      <td>[{'id': 1, 'name': 'John Doe'}, {'id': 2, 'nam...</td>\n",
              "      <td>2</td>\n",
              "      <td>ACME</td>\n",
              "      <td>[{'id': 1, 'name': 'John Doe'}, {'id': 2, 'nam...</td>\n",
              "      <td>2</td>\n",
              "      <td>ACME</td>\n",
              "    </tr>\n",
              "  </tbody>\n",
              "</table>\n",
              "</div>\n",
              "    <div class=\"colab-df-buttons\">\n",
              "\n",
              "  <div class=\"colab-df-container\">\n",
              "    <button class=\"colab-df-convert\" onclick=\"convertToInteractive('df-cee2dbc7-8e0b-441c-8c83-c5c9f5c9e6d7')\"\n",
              "            title=\"Convert this dataframe to an interactive table.\"\n",
              "            style=\"display:none;\">\n",
              "\n",
              "  <svg xmlns=\"http://www.w3.org/2000/svg\" height=\"24px\" viewBox=\"0 -960 960 960\">\n",
              "    <path d=\"M120-120v-720h720v720H120Zm60-500h600v-160H180v160Zm220 220h160v-160H400v160Zm0 220h160v-160H400v160ZM180-400h160v-160H180v160Zm440 0h160v-160H620v160ZM180-180h160v-160H180v160Zm440 0h160v-160H620v160Z\"/>\n",
              "  </svg>\n",
              "    </button>\n",
              "\n",
              "  <style>\n",
              "    .colab-df-container {\n",
              "      display:flex;\n",
              "      gap: 12px;\n",
              "    }\n",
              "\n",
              "    .colab-df-convert {\n",
              "      background-color: #E8F0FE;\n",
              "      border: none;\n",
              "      border-radius: 50%;\n",
              "      cursor: pointer;\n",
              "      display: none;\n",
              "      fill: #1967D2;\n",
              "      height: 32px;\n",
              "      padding: 0 0 0 0;\n",
              "      width: 32px;\n",
              "    }\n",
              "\n",
              "    .colab-df-convert:hover {\n",
              "      background-color: #E2EBFA;\n",
              "      box-shadow: 0px 1px 2px rgba(60, 64, 67, 0.3), 0px 1px 3px 1px rgba(60, 64, 67, 0.15);\n",
              "      fill: #174EA6;\n",
              "    }\n",
              "\n",
              "    .colab-df-buttons div {\n",
              "      margin-bottom: 4px;\n",
              "    }\n",
              "\n",
              "    [theme=dark] .colab-df-convert {\n",
              "      background-color: #3B4455;\n",
              "      fill: #D2E3FC;\n",
              "    }\n",
              "\n",
              "    [theme=dark] .colab-df-convert:hover {\n",
              "      background-color: #434B5C;\n",
              "      box-shadow: 0px 1px 3px 1px rgba(0, 0, 0, 0.15);\n",
              "      filter: drop-shadow(0px 1px 2px rgba(0, 0, 0, 0.3));\n",
              "      fill: #FFFFFF;\n",
              "    }\n",
              "  </style>\n",
              "\n",
              "    <script>\n",
              "      const buttonEl =\n",
              "        document.querySelector('#df-cee2dbc7-8e0b-441c-8c83-c5c9f5c9e6d7 button.colab-df-convert');\n",
              "      buttonEl.style.display =\n",
              "        google.colab.kernel.accessAllowed ? 'block' : 'none';\n",
              "\n",
              "      async function convertToInteractive(key) {\n",
              "        const element = document.querySelector('#df-cee2dbc7-8e0b-441c-8c83-c5c9f5c9e6d7');\n",
              "        const dataTable =\n",
              "          await google.colab.kernel.invokeFunction('convertToInteractive',\n",
              "                                                    [key], {});\n",
              "        if (!dataTable) return;\n",
              "\n",
              "        const docLinkHtml = 'Like what you see? Visit the ' +\n",
              "          '<a target=\"_blank\" href=https://colab.research.google.com/notebooks/data_table.ipynb>data table notebook</a>'\n",
              "          + ' to learn more about interactive tables.';\n",
              "        element.innerHTML = '';\n",
              "        dataTable['output_type'] = 'display_data';\n",
              "        await google.colab.output.renderOutput(dataTable, element);\n",
              "        const docLink = document.createElement('div');\n",
              "        docLink.innerHTML = docLinkHtml;\n",
              "        element.appendChild(docLink);\n",
              "      }\n",
              "    </script>\n",
              "  </div>\n",
              "\n",
              "    </div>\n",
              "  </div>\n"
            ]
          },
          "metadata": {},
          "execution_count": 57
        }
      ]
    },
    {
      "cell_type": "code",
      "source": [
        "# Load json_normalize()\n",
        "from pandas.io.json import json_normalize\n",
        "import json\n",
        "\n",
        "# Isolate the JSON data from the API response\n",
        "with open('sample_nested.json') as f:\n",
        "    data = json.load(f)\n",
        "\n",
        "df = pd.DataFrame()\n",
        "\n",
        "# Flatten JSON data into a dataframe, replace separator\n",
        "for key in data.keys():\n",
        "    df1 = json_normalize(data[key], 'region',[['country','id'],['country','company']], sep='_')\n",
        "    df1['category'] = key\n",
        "    df = df.append(df1)\n",
        "\n",
        "# View data\n",
        "df"
      ],
      "metadata": {
        "colab": {
          "base_uri": "https://localhost:8080/",
          "height": 348
        },
        "id": "uxBYNOaAwHrX",
        "outputId": "ebeb8475-37eb-495a-87dd-6603d0a865f7"
      },
      "execution_count": 110,
      "outputs": [
        {
          "output_type": "stream",
          "name": "stdout",
          "text": [
            "coffee\n",
            "brewing\n"
          ]
        },
        {
          "output_type": "stream",
          "name": "stderr",
          "text": [
            "<ipython-input-110-678f0cc69749>:14: FutureWarning: pandas.io.json.json_normalize is deprecated, use pandas.json_normalize instead.\n",
            "  df1 = json_normalize(data[key], 'region',[['country','id'],['country','company']], sep='_')\n",
            "<ipython-input-110-678f0cc69749>:16: FutureWarning: The frame.append method is deprecated and will be removed from pandas in a future version. Use pandas.concat instead.\n",
            "  df = df.append(df1)\n",
            "<ipython-input-110-678f0cc69749>:14: FutureWarning: pandas.io.json.json_normalize is deprecated, use pandas.json_normalize instead.\n",
            "  df1 = json_normalize(data[key], 'region',[['country','id'],['country','company']], sep='_')\n",
            "<ipython-input-110-678f0cc69749>:16: FutureWarning: The frame.append method is deprecated and will be removed from pandas in a future version. Use pandas.concat instead.\n",
            "  df = df.append(df1)\n"
          ]
        },
        {
          "output_type": "execute_result",
          "data": {
            "text/plain": [
              "   id      name country_id country_company category\n",
              "0   1  John Doe          2            ACME   coffee\n",
              "1   2  Don Joeh          2            ACME   coffee\n",
              "0   1  John Doe          2            ACME  brewing\n",
              "1   2  Don Joeh          2            ACME  brewing"
            ],
            "text/html": [
              "\n",
              "  <div id=\"df-0119052f-e1ba-44e8-b917-06cd86a8a23e\" class=\"colab-df-container\">\n",
              "    <div>\n",
              "<style scoped>\n",
              "    .dataframe tbody tr th:only-of-type {\n",
              "        vertical-align: middle;\n",
              "    }\n",
              "\n",
              "    .dataframe tbody tr th {\n",
              "        vertical-align: top;\n",
              "    }\n",
              "\n",
              "    .dataframe thead th {\n",
              "        text-align: right;\n",
              "    }\n",
              "</style>\n",
              "<table border=\"1\" class=\"dataframe\">\n",
              "  <thead>\n",
              "    <tr style=\"text-align: right;\">\n",
              "      <th></th>\n",
              "      <th>id</th>\n",
              "      <th>name</th>\n",
              "      <th>country_id</th>\n",
              "      <th>country_company</th>\n",
              "      <th>category</th>\n",
              "    </tr>\n",
              "  </thead>\n",
              "  <tbody>\n",
              "    <tr>\n",
              "      <th>0</th>\n",
              "      <td>1</td>\n",
              "      <td>John Doe</td>\n",
              "      <td>2</td>\n",
              "      <td>ACME</td>\n",
              "      <td>coffee</td>\n",
              "    </tr>\n",
              "    <tr>\n",
              "      <th>1</th>\n",
              "      <td>2</td>\n",
              "      <td>Don Joeh</td>\n",
              "      <td>2</td>\n",
              "      <td>ACME</td>\n",
              "      <td>coffee</td>\n",
              "    </tr>\n",
              "    <tr>\n",
              "      <th>0</th>\n",
              "      <td>1</td>\n",
              "      <td>John Doe</td>\n",
              "      <td>2</td>\n",
              "      <td>ACME</td>\n",
              "      <td>brewing</td>\n",
              "    </tr>\n",
              "    <tr>\n",
              "      <th>1</th>\n",
              "      <td>2</td>\n",
              "      <td>Don Joeh</td>\n",
              "      <td>2</td>\n",
              "      <td>ACME</td>\n",
              "      <td>brewing</td>\n",
              "    </tr>\n",
              "  </tbody>\n",
              "</table>\n",
              "</div>\n",
              "    <div class=\"colab-df-buttons\">\n",
              "\n",
              "  <div class=\"colab-df-container\">\n",
              "    <button class=\"colab-df-convert\" onclick=\"convertToInteractive('df-0119052f-e1ba-44e8-b917-06cd86a8a23e')\"\n",
              "            title=\"Convert this dataframe to an interactive table.\"\n",
              "            style=\"display:none;\">\n",
              "\n",
              "  <svg xmlns=\"http://www.w3.org/2000/svg\" height=\"24px\" viewBox=\"0 -960 960 960\">\n",
              "    <path d=\"M120-120v-720h720v720H120Zm60-500h600v-160H180v160Zm220 220h160v-160H400v160Zm0 220h160v-160H400v160ZM180-400h160v-160H180v160Zm440 0h160v-160H620v160ZM180-180h160v-160H180v160Zm440 0h160v-160H620v160Z\"/>\n",
              "  </svg>\n",
              "    </button>\n",
              "\n",
              "  <style>\n",
              "    .colab-df-container {\n",
              "      display:flex;\n",
              "      gap: 12px;\n",
              "    }\n",
              "\n",
              "    .colab-df-convert {\n",
              "      background-color: #E8F0FE;\n",
              "      border: none;\n",
              "      border-radius: 50%;\n",
              "      cursor: pointer;\n",
              "      display: none;\n",
              "      fill: #1967D2;\n",
              "      height: 32px;\n",
              "      padding: 0 0 0 0;\n",
              "      width: 32px;\n",
              "    }\n",
              "\n",
              "    .colab-df-convert:hover {\n",
              "      background-color: #E2EBFA;\n",
              "      box-shadow: 0px 1px 2px rgba(60, 64, 67, 0.3), 0px 1px 3px 1px rgba(60, 64, 67, 0.15);\n",
              "      fill: #174EA6;\n",
              "    }\n",
              "\n",
              "    .colab-df-buttons div {\n",
              "      margin-bottom: 4px;\n",
              "    }\n",
              "\n",
              "    [theme=dark] .colab-df-convert {\n",
              "      background-color: #3B4455;\n",
              "      fill: #D2E3FC;\n",
              "    }\n",
              "\n",
              "    [theme=dark] .colab-df-convert:hover {\n",
              "      background-color: #434B5C;\n",
              "      box-shadow: 0px 1px 3px 1px rgba(0, 0, 0, 0.15);\n",
              "      filter: drop-shadow(0px 1px 2px rgba(0, 0, 0, 0.3));\n",
              "      fill: #FFFFFF;\n",
              "    }\n",
              "  </style>\n",
              "\n",
              "    <script>\n",
              "      const buttonEl =\n",
              "        document.querySelector('#df-0119052f-e1ba-44e8-b917-06cd86a8a23e button.colab-df-convert');\n",
              "      buttonEl.style.display =\n",
              "        google.colab.kernel.accessAllowed ? 'block' : 'none';\n",
              "\n",
              "      async function convertToInteractive(key) {\n",
              "        const element = document.querySelector('#df-0119052f-e1ba-44e8-b917-06cd86a8a23e');\n",
              "        const dataTable =\n",
              "          await google.colab.kernel.invokeFunction('convertToInteractive',\n",
              "                                                    [key], {});\n",
              "        if (!dataTable) return;\n",
              "\n",
              "        const docLinkHtml = 'Like what you see? Visit the ' +\n",
              "          '<a target=\"_blank\" href=https://colab.research.google.com/notebooks/data_table.ipynb>data table notebook</a>'\n",
              "          + ' to learn more about interactive tables.';\n",
              "        element.innerHTML = '';\n",
              "        dataTable['output_type'] = 'display_data';\n",
              "        await google.colab.output.renderOutput(dataTable, element);\n",
              "        const docLink = document.createElement('div');\n",
              "        docLink.innerHTML = docLinkHtml;\n",
              "        element.appendChild(docLink);\n",
              "      }\n",
              "    </script>\n",
              "  </div>\n",
              "\n",
              "\n",
              "<div id=\"df-e9924d33-0f2a-41ad-90c0-1fa99b481361\">\n",
              "  <button class=\"colab-df-quickchart\" onclick=\"quickchart('df-e9924d33-0f2a-41ad-90c0-1fa99b481361')\"\n",
              "            title=\"Suggest charts\"\n",
              "            style=\"display:none;\">\n",
              "\n",
              "<svg xmlns=\"http://www.w3.org/2000/svg\" height=\"24px\"viewBox=\"0 0 24 24\"\n",
              "     width=\"24px\">\n",
              "    <g>\n",
              "        <path d=\"M19 3H5c-1.1 0-2 .9-2 2v14c0 1.1.9 2 2 2h14c1.1 0 2-.9 2-2V5c0-1.1-.9-2-2-2zM9 17H7v-7h2v7zm4 0h-2V7h2v10zm4 0h-2v-4h2v4z\"/>\n",
              "    </g>\n",
              "</svg>\n",
              "  </button>\n",
              "\n",
              "<style>\n",
              "  .colab-df-quickchart {\n",
              "      --bg-color: #E8F0FE;\n",
              "      --fill-color: #1967D2;\n",
              "      --hover-bg-color: #E2EBFA;\n",
              "      --hover-fill-color: #174EA6;\n",
              "      --disabled-fill-color: #AAA;\n",
              "      --disabled-bg-color: #DDD;\n",
              "  }\n",
              "\n",
              "  [theme=dark] .colab-df-quickchart {\n",
              "      --bg-color: #3B4455;\n",
              "      --fill-color: #D2E3FC;\n",
              "      --hover-bg-color: #434B5C;\n",
              "      --hover-fill-color: #FFFFFF;\n",
              "      --disabled-bg-color: #3B4455;\n",
              "      --disabled-fill-color: #666;\n",
              "  }\n",
              "\n",
              "  .colab-df-quickchart {\n",
              "    background-color: var(--bg-color);\n",
              "    border: none;\n",
              "    border-radius: 50%;\n",
              "    cursor: pointer;\n",
              "    display: none;\n",
              "    fill: var(--fill-color);\n",
              "    height: 32px;\n",
              "    padding: 0;\n",
              "    width: 32px;\n",
              "  }\n",
              "\n",
              "  .colab-df-quickchart:hover {\n",
              "    background-color: var(--hover-bg-color);\n",
              "    box-shadow: 0 1px 2px rgba(60, 64, 67, 0.3), 0 1px 3px 1px rgba(60, 64, 67, 0.15);\n",
              "    fill: var(--button-hover-fill-color);\n",
              "  }\n",
              "\n",
              "  .colab-df-quickchart-complete:disabled,\n",
              "  .colab-df-quickchart-complete:disabled:hover {\n",
              "    background-color: var(--disabled-bg-color);\n",
              "    fill: var(--disabled-fill-color);\n",
              "    box-shadow: none;\n",
              "  }\n",
              "\n",
              "  .colab-df-spinner {\n",
              "    border: 2px solid var(--fill-color);\n",
              "    border-color: transparent;\n",
              "    border-bottom-color: var(--fill-color);\n",
              "    animation:\n",
              "      spin 1s steps(1) infinite;\n",
              "  }\n",
              "\n",
              "  @keyframes spin {\n",
              "    0% {\n",
              "      border-color: transparent;\n",
              "      border-bottom-color: var(--fill-color);\n",
              "      border-left-color: var(--fill-color);\n",
              "    }\n",
              "    20% {\n",
              "      border-color: transparent;\n",
              "      border-left-color: var(--fill-color);\n",
              "      border-top-color: var(--fill-color);\n",
              "    }\n",
              "    30% {\n",
              "      border-color: transparent;\n",
              "      border-left-color: var(--fill-color);\n",
              "      border-top-color: var(--fill-color);\n",
              "      border-right-color: var(--fill-color);\n",
              "    }\n",
              "    40% {\n",
              "      border-color: transparent;\n",
              "      border-right-color: var(--fill-color);\n",
              "      border-top-color: var(--fill-color);\n",
              "    }\n",
              "    60% {\n",
              "      border-color: transparent;\n",
              "      border-right-color: var(--fill-color);\n",
              "    }\n",
              "    80% {\n",
              "      border-color: transparent;\n",
              "      border-right-color: var(--fill-color);\n",
              "      border-bottom-color: var(--fill-color);\n",
              "    }\n",
              "    90% {\n",
              "      border-color: transparent;\n",
              "      border-bottom-color: var(--fill-color);\n",
              "    }\n",
              "  }\n",
              "</style>\n",
              "\n",
              "  <script>\n",
              "    async function quickchart(key) {\n",
              "      const quickchartButtonEl =\n",
              "        document.querySelector('#' + key + ' button');\n",
              "      quickchartButtonEl.disabled = true;  // To prevent multiple clicks.\n",
              "      quickchartButtonEl.classList.add('colab-df-spinner');\n",
              "      try {\n",
              "        const charts = await google.colab.kernel.invokeFunction(\n",
              "            'suggestCharts', [key], {});\n",
              "      } catch (error) {\n",
              "        console.error('Error during call to suggestCharts:', error);\n",
              "      }\n",
              "      quickchartButtonEl.classList.remove('colab-df-spinner');\n",
              "      quickchartButtonEl.classList.add('colab-df-quickchart-complete');\n",
              "    }\n",
              "    (() => {\n",
              "      let quickchartButtonEl =\n",
              "        document.querySelector('#df-e9924d33-0f2a-41ad-90c0-1fa99b481361 button');\n",
              "      quickchartButtonEl.style.display =\n",
              "        google.colab.kernel.accessAllowed ? 'block' : 'none';\n",
              "    })();\n",
              "  </script>\n",
              "</div>\n",
              "    </div>\n",
              "  </div>\n"
            ]
          },
          "metadata": {},
          "execution_count": 110
        }
      ]
    },
    {
      "cell_type": "code",
      "source": [
        "# # Load json_normalize()\n",
        "# from pandas.io.json import json_normalize\n",
        "\n",
        "# # Isolate the JSON data from the API response\n",
        "# data = response.json()\n",
        "\n",
        "# # Flatten business data into a dataframe, replace separator\n",
        "# cafes = json_normalize(data[\"businesses\"],\n",
        "#              sep='_')\n",
        "\n",
        "# # View data\n",
        "# print(cafes.head())"
      ],
      "metadata": {
        "id": "_7stWi4nSLO3"
      },
      "execution_count": null,
      "outputs": []
    },
    {
      "cell_type": "code",
      "source": [
        "# # Load other business attributes and set meta prefix\n",
        "# flat_cafes = json_normalize(data[\"businesses\"],\n",
        "#                             sep=\"_\",\n",
        "#                     \t\trecord_path=\"categories\",\n",
        "#                     \t\tmeta=['name',\n",
        "#                                   'alias',\n",
        "#                                   'rating',\n",
        "#                           \t\t  ['coordinates', 'latitude'],\n",
        "#                           \t\t  ['coordinates', 'longitude']],\n",
        "#                     \t\tmeta_prefix='biz_')\n",
        "\n",
        "\n",
        "\n",
        "\n",
        "\n",
        "# # View the data\n",
        "# print(flat_cafes.head())"
      ],
      "metadata": {
        "id": "r7ARboWZUZ_B"
      },
      "execution_count": null,
      "outputs": []
    },
    {
      "cell_type": "markdown",
      "source": [
        "#### Combining Multiple Datasets"
      ],
      "metadata": {
        "id": "2iGrOnqZnD4f"
      }
    },
    {
      "cell_type": "code",
      "source": [
        "# # Merge crosswalk into cafes on their zip code fields\n",
        "# cafes_with_pumas = cafes.merge(crosswalk, left_on='location_zip_code', right_on='zipcode')\n",
        "\n",
        "\n",
        "\n",
        "# # Merge pop_data into cafes_with_pumas on puma field\n",
        "# cafes_with_pop = cafes_with_pumas.merge(pop_data, on='puma')\n",
        "\n",
        "# # View the data\n",
        "# print(cafes_with_pop.head())"
      ],
      "metadata": {
        "id": "rdD85DsDcscp"
      },
      "execution_count": null,
      "outputs": []
    }
  ]
}