{
  "nbformat": 4,
  "nbformat_minor": 0,
  "metadata": {
    "colab": {
      "provenance": []
    },
    "kernelspec": {
      "name": "python3",
      "display_name": "Python 3"
    },
    "language_info": {
      "name": "python"
    }
  },
  "cells": [
    {
      "cell_type": "markdown",
      "source": [
        "Logging in Python by [Daniel Chung](https://machinelearningmastery.com/logging-in-python/#:~:text=Logging%20is%20a%20way%20to,may%20be%20extremely%20time%20consuming.)\n",
        "\n",
        "- Logging is a way to store information about your script and track events that occur. When writing any complex script in Python, logging is essential for debugging software as you develop it. Without logging, finding the source of a problem in your code may be extremely time consuming.\n",
        "* Python has a built-in library, logging, for this purpose. It is simple to create a “logger” to log messages or information that you would like to see."
      ],
      "metadata": {
        "id": "WB2UZ5dnkaDM"
      }
    },
    {
      "cell_type": "markdown",
      "source": [
        "Benefits of Logging\n",
        "\n",
        "When you run an algorithm and want to confirm it is doing what you expected, it is natural to add some print() statements at strategic locations to show the program’s state. Printing can help debug simpler scripts, but as your code gets more and more complex, printing lacks the flexibility and robustness that logging has.\n",
        "* More flexible and robust than the print statement\n",
        "* helps differentiate severity betweeen messages\n",
        "* write information to a file\n",
        "* increase and decrease the verbose of the logging messages without changing a lot of code."
      ],
      "metadata": {
        "id": "etz7Rb1slNtU"
      }
    },
    {
      "cell_type": "markdown",
      "source": [
        "Basic Logging"
      ],
      "metadata": {
        "id": "XYLPzjatl3yb"
      }
    },
    {
      "cell_type": "markdown",
      "source": [
        "The logging system in Python operates under a hierarchical namespace and different levels of severity. The Python script can create a logger under a namespace, and every time a message is logged, the script must specify its severity.There are 5 different logging levels that indicate the severity of the logs, shown in increasing severity:\n",
        "\n",
        "1. DEBUG\n",
        "2. INFO\n",
        "3. WARNING\n",
        "4. ERROR\n",
        "5. CRITICAL"
      ],
      "metadata": {
        "id": "uf2vzNwsq_oT"
      }
    },
    {
      "cell_type": "code",
      "execution_count": 1,
      "metadata": {
        "colab": {
          "base_uri": "https://localhost:8080/"
        },
        "id": "QY76SUOZkLgR",
        "outputId": "dacd5b97-ef72-416f-d46b-c78b92916071"
      },
      "outputs": [
        {
          "output_type": "stream",
          "name": "stderr",
          "text": [
            "WARNING:root:Warning message\n",
            "ERROR:root:Error message\n",
            "CRITICAL:root:Critical message\n"
          ]
        }
      ],
      "source": [
        "# a simple logging message\n",
        "import logging\n",
        "\n",
        "# the five levels of logging\n",
        "logging.debug('Debug message')\n",
        "logging.info('Info message')\n",
        "# Notice, while there are five lines of logging, you see only three lines of output if you run this script, by default the root logger only prints severity level above info\n",
        "logging.warning('Warning message')\n",
        "logging.error('Error message')\n",
        "logging.critical('Critical message')"
      ]
    },
    {
      "cell_type": "markdown",
      "source": [
        "## Advanced configuration to logging"
      ],
      "metadata": {
        "id": "IZGxE_8bJSOD"
      }
    },
    {
      "cell_type": "code",
      "source": [
        "# to config our logging\n",
        "logging.basicConfig(level=logging.DEBUG,\n",
        "                    format=\"%(asctime)s - %(levelname)s - %(message)s\",\n",
        "                    force=True)\n",
        "\n",
        "# Changing the severity level to debug will prints all five levels\n",
        "logging.debug('Debug message')\n",
        "logging.info('Info message')\n",
        "logging.warning('Warning message')\n",
        "logging.error('Error message')\n",
        "logging.critical('Critical message')"
      ],
      "metadata": {
        "colab": {
          "base_uri": "https://localhost:8080/"
        },
        "id": "c_PZCytKrdOF",
        "outputId": "fa6fe6a2-8ff4-4f8a-b7e9-524946520091"
      },
      "execution_count": 2,
      "outputs": [
        {
          "output_type": "stream",
          "name": "stderr",
          "text": [
            "2023-11-02 09:04:31,903 - DEBUG - Debug message\n",
            "2023-11-02 09:04:31,907 - INFO - Info message\n",
            "2023-11-02 09:04:31,909 - WARNING - Warning message\n",
            "2023-11-02 09:04:31,911 - ERROR - Error message\n",
            "2023-11-02 09:04:31,913 - CRITICAL - Critical message\n"
          ]
        }
      ]
    },
    {
      "cell_type": "code",
      "source": [
        "# config our logging to write to an output file\n",
        "logging.basicConfig(level=logging.DEBUG,\n",
        "                    filename='log.log',\n",
        "                    format=\"%(asctime)s - %(levelname)s - %(message)s\",\n",
        "                    filemode='w',\n",
        "                    force=True # logging.basicConfig can be run just once, we use \"force=True\" to reset any previous configuration\n",
        "                    )\n",
        "\n",
        "# Notice, while there are five lines of logging, you see only three lines of output if you run this script\n",
        "logging.debug('Debug message')\n",
        "logging.info('Info message')\n",
        "logging.warning('Warning message')\n",
        "logging.error('Error message')\n",
        "logging.critical('Critical message')"
      ],
      "metadata": {
        "id": "z-ZuNeSjIqbx"
      },
      "execution_count": 3,
      "outputs": []
    },
    {
      "cell_type": "code",
      "source": [
        "with open('./log.log','r') as f:\n",
        "    print(f.read())"
      ],
      "metadata": {
        "colab": {
          "base_uri": "https://localhost:8080/"
        },
        "id": "nCQooMtttDUJ",
        "outputId": "1a95177d-ca9a-446a-fffe-7eda04aecb6e"
      },
      "execution_count": 4,
      "outputs": [
        {
          "output_type": "stream",
          "name": "stdout",
          "text": [
            "2023-11-02 09:04:43,860 - DEBUG - Debug message\n",
            "2023-11-02 09:04:43,860 - INFO - Info message\n",
            "2023-11-02 09:04:43,860 - WARNING - Warning message\n",
            "2023-11-02 09:04:43,860 - ERROR - Error message\n",
            "2023-11-02 09:04:43,860 - CRITICAL - Critical message\n",
            "\n"
          ]
        }
      ]
    },
    {
      "cell_type": "code",
      "source": [
        "# logging a value\n",
        "x = 2\n",
        "\n",
        "logging.info(f\"the value of x is {x}\")\n",
        "\n",
        "with open('./log.log','r') as f:\n",
        "    print(f.read())"
      ],
      "metadata": {
        "colab": {
          "base_uri": "https://localhost:8080/"
        },
        "id": "a8YVki1rxA3d",
        "outputId": "a6797893-ffb7-455c-991c-0ad1ec737862"
      },
      "execution_count": 5,
      "outputs": [
        {
          "output_type": "stream",
          "name": "stdout",
          "text": [
            "2023-11-02 09:04:43,860 - DEBUG - Debug message\n",
            "2023-11-02 09:04:43,860 - INFO - Info message\n",
            "2023-11-02 09:04:43,860 - WARNING - Warning message\n",
            "2023-11-02 09:04:43,860 - ERROR - Error message\n",
            "2023-11-02 09:04:43,860 - CRITICAL - Critical message\n",
            "2023-11-02 09:04:55,576 - INFO - the value of x is 2\n",
            "\n"
          ]
        }
      ]
    },
    {
      "cell_type": "code",
      "source": [
        "# logging exception\n",
        "try:\n",
        "     1/0\n",
        "except ZeroDivisionError as e:\n",
        "    logging.error('ZeroDivisionError', exc_info=True)\n",
        "\n",
        "with open('./log.log','r') as f:\n",
        "    print(f.read())"
      ],
      "metadata": {
        "colab": {
          "base_uri": "https://localhost:8080/"
        },
        "id": "Ohs55Suwymuk",
        "outputId": "2bcb727d-7843-42ab-99c1-ee03f97af315"
      },
      "execution_count": 6,
      "outputs": [
        {
          "output_type": "stream",
          "name": "stdout",
          "text": [
            "2023-11-02 09:04:43,860 - DEBUG - Debug message\n",
            "2023-11-02 09:04:43,860 - INFO - Info message\n",
            "2023-11-02 09:04:43,860 - WARNING - Warning message\n",
            "2023-11-02 09:04:43,860 - ERROR - Error message\n",
            "2023-11-02 09:04:43,860 - CRITICAL - Critical message\n",
            "2023-11-02 09:04:55,576 - INFO - the value of x is 2\n",
            "2023-11-02 09:05:04,517 - ERROR - ZeroDivisionError\n",
            "Traceback (most recent call last):\n",
            "  File \"<ipython-input-6-606d6dcfba6b>\", line 3, in <cell line: 2>\n",
            "    1/0\n",
            "ZeroDivisionError: division by zero\n",
            "\n"
          ]
        }
      ]
    },
    {
      "cell_type": "markdown",
      "source": [
        "## Custom Logging"
      ],
      "metadata": {
        "id": "V_mjzeodLNES"
      }
    },
    {
      "cell_type": "markdown",
      "source": [
        "#### Log Handlers\n",
        "<text>\n",
        "We can configure the output destination of our logger with handlers. Handlers are responsible for sending the log messages to the correct destination. There are several types of handlers; the most common ones are StreamHandler and FileHandler. With StreamHandler, the logger will output to the terminal, while with FileHandler, the logger will output to a particular file.\n",
        "</text>\n",
        "\n",
        "#### Formatters\n",
        "<text>\n",
        "To configure the format of the logger, we use a Formatter. It allows us to set the format of the log, similarly to how we did so in the root logger’s basicConfig(). This is how we can add a formatter to our handler</text>"
      ],
      "metadata": {
        "id": "u0SXIhrrLlVj"
      }
    },
    {
      "cell_type": "code",
      "source": [
        "# custom loggers\n",
        "logger = logging.getLogger(__name__) # __name__ returns the name of the module\n",
        "logger.setLevel(logging.INFO)\n",
        "\n",
        "shandler = logging.StreamHandler() # prints to screen or console\n",
        "shandler.setLevel(logging.INFO)\n",
        "logger.addHandler(shandler)\n",
        "fhandler = logging.FileHandler('test.log') # writes to a file\n",
        "fhandler.setLevel(logging.INFO)\n",
        "\n",
        "sformatter = logging.Formatter(\"%(asctime)s - %(name)s - %(levelname)s - %(levelno)s - %(message)s\")\n",
        "shandler.setFormatter(sformatter)\n",
        "fformatter = logging.Formatter(\"%(asctime)s - %(levelname)s - %(name)s - %(message)s\")\n",
        "fhandler.setFormatter(fformatter)\n",
        "\n",
        "logger.addHandler(fhandler)\n",
        "\n",
        "logger.info(\"test the custom logger\")"
      ],
      "metadata": {
        "colab": {
          "base_uri": "https://localhost:8080/"
        },
        "id": "MDiruKFUzGzv",
        "outputId": "8a4c509c-a0a6-4ded-9461-9c863b303613"
      },
      "execution_count": 9,
      "outputs": [
        {
          "output_type": "stream",
          "name": "stderr",
          "text": [
            "2023-11-02 09:05:56,504 - __main__ - INFO - 20 - test the custom logger\n",
            "2023-11-02 09:05:56,504 - __main__ - INFO - 20 - test the custom logger\n"
          ]
        }
      ]
    },
    {
      "cell_type": "code",
      "source": [
        "with open('./test.log','r') as f:\n",
        "    print(f.read())"
      ],
      "metadata": {
        "colab": {
          "base_uri": "https://localhost:8080/"
        },
        "id": "UhRvV5nr2mTn",
        "outputId": "bd233429-3857-4563-f37a-5a89e2099493"
      },
      "execution_count": 10,
      "outputs": [
        {
          "output_type": "stream",
          "name": "stdout",
          "text": [
            "2023-11-02 09:05:56,504 - INFO - __main__ - test the custom logger\n",
            "\n"
          ]
        }
      ]
    }
  ]
}
